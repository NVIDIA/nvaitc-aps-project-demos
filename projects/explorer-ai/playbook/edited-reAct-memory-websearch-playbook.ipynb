{
 "cells": [
  {
   "cell_type": "markdown",
   "metadata": {
    "id": "9coJgIqI7SGb"
   },
   "source": [
    "# Introduction"
   ]
  },
  {
   "cell_type": "markdown",
   "metadata": {
    "id": "wRJo9kyn1DTD"
   },
   "source": [
    "## Build a Conversational Web Search ReAct Agent with NVIDIA NIMS\n",
    "\n",
    "This playbook demonstrates how to enable tool calling with memory on Llama 3.1 70B Instruct model using LangGraph, Tavily. Model inference is completed by API via NVIDIA NIMs. We will first explore implementing each feature/component individually. We explore implementing only persistent memory on LangGraph, then creating a ReAct agent with only Tavily web search tool -- and then lastly how both concepts can be combined for a ReAct agent with conversational memory and web search capabilities.\n",
    "\n",
    "**Notebook Goals:**\n",
    "\n",
    "Build a ReAct Agent with\n",
    "1. Conversational Memory (remembers context, names, roles)\n",
    "2. Web Search Tool (real-time search using Tavily)\n",
    "3. NVIDIA Llama 3.1 70B Instruct for inference\n",
    "4. LangGraph to orchestrate reasoning, memory, and tool use\n"
   ]
  },
  {
   "cell_type": "markdown",
   "metadata": {
    "id": "UZiF1SUR6clH"
   },
   "source": [
    "## Key Components and Why They're Used\n",
    "\n",
    "| Component              | Purpose                                                        |\n",
    "|------------------------|----------------------------------------------------------------|\n",
    "| LangGraph              | Orchestrates state transitions, memory, and tool use           |\n",
    "| MemorySaver            | Saves state so the agent remembers conversation                |\n",
    "| TavilySearchResults    | Real-time web search API for factual augmentation              |\n",
    "| create_react_agent()   | Prebuilt function to create a LangGraph-powered ReAct agent with memory + tools |\n",
    "| ChatNVIDIA             | Calls NVIDIA's Llama 3.1 70B via API to generate responses     |\n"
   ]
  },
  {
   "cell_type": "markdown",
   "metadata": {
    "id": "YuHo8qLF7hyz"
   },
   "source": [
    "# Setup"
   ]
  },
  {
   "cell_type": "markdown",
   "metadata": {
    "id": "UbtCum1i1DTE"
   },
   "source": [
    "## Instructions to Configure Jupyter Notebook Environment\n",
    "\n",
    "**Step 1: Set Up Your Accounts and API Keys (free)**\n",
    "\n",
    "- Generate a NVIDIA NIMs API Key: [Log in to your account, navigate to your account settings, and generate an API key](https://build.nvidia.com/meta/llama-3_1-70b-instruct).\n",
    "- Generate a LangSmith API Key: [Log into your account and generate an API key](https://smith.langchain.com/settings)\n",
    "- Generate a Tavily Web Search Key: [Log into your account and generate an API key](https://app.tavily.com/)\n",
    "\n",
    "**Step 2: Download the packages**\n",
    "\n",
    "- Create a jupyter notebook kernel with the required packages (in requirements.txt)"
   ]
  },
  {
   "cell_type": "markdown",
   "metadata": {
    "id": "f6QGzG-S1osX"
   },
   "source": [
    "For running the notebook locally:"
   ]
  },
  {
   "cell_type": "code",
   "execution_count": 2,
   "metadata": {},
   "outputs": [],
   "source": [
    "# !pip install --upgrade pip"
   ]
  },
  {
   "cell_type": "code",
   "execution_count": 3,
   "metadata": {
    "id": "vs-cPllL1DTE"
   },
   "outputs": [],
   "source": [
    "# !pip install -r requirements.txt"
   ]
  },
  {
   "cell_type": "markdown",
   "metadata": {
    "id": "LaRm8Bz-1qfQ"
   },
   "source": [
    "For running the notebook on colab:"
   ]
  },
  {
   "cell_type": "code",
   "execution_count": 4,
   "metadata": {
    "id": "MJBz5XW81mGZ"
   },
   "outputs": [],
   "source": [
    "# !pip install langgraph>=0.2.0 langchain==0.3.18 langchain-community==0.3.17 langchain-core==0.3.49 langchain-nvidia-ai-endpoints==0.3.9 langchain-text-splitters==0.3.6\n"
   ]
  },
  {
   "cell_type": "code",
   "execution_count": 5,
   "metadata": {
    "colab": {
     "base_uri": "https://localhost:8080/"
    },
    "executionInfo": {
     "elapsed": 1127,
     "status": "ok",
     "timestamp": 1742261272714,
     "user": {
      "displayName": "Darren Tan SG",
      "userId": "07785499131391784730"
     },
     "user_tz": -480
    },
    "id": "iZZjCq_41DTF",
    "outputId": "8d671ad5-2a34-4874-d8f7-08135a905bfe"
   },
   "outputs": [],
   "source": [
    "# !ipython kernel install --user --name=venv_jup"
   ]
  },
  {
   "cell_type": "markdown",
   "metadata": {},
   "source": [
    "Import necessary packages"
   ]
  },
  {
   "cell_type": "code",
   "execution_count": 6,
   "metadata": {
    "id": "81Yd7IG41DTF"
   },
   "outputs": [],
   "source": [
    "import os\n",
    "import json\n",
    "from langchain_nvidia_ai_endpoints import ChatNVIDIA\n",
    "from typing import Annotated\n",
    "from typing_extensions import TypedDict\n",
    "from langgraph.graph.message import add_messages\n",
    "\n",
    "from langgraph.graph import StateGraph, START, END\n",
    "from langgraph.checkpoint.memory import MemorySaver\n",
    "\n",
    "from langchain_community.tools.tavily_search import TavilySearchResults\n",
    "from langgraph.prebuilt import create_react_agent"
   ]
  },
  {
   "cell_type": "markdown",
   "metadata": {
    "id": "S74QZqvg83KA"
   },
   "source": [
    "Loads keys for:\n",
    "1. NVIDIA NIMs\n",
    "2. LangSmith (for logging and dashboards)\n",
    "3. Tavily (web search)"
   ]
  },
  {
   "cell_type": "code",
   "execution_count": null,
   "metadata": {},
   "outputs": [],
   "source": [
    "os.environ[\"NVIDIA_API_KEY\"] = \"<INSERT NVIDIA API KEY>\"\n",
    "\n",
    "# os.environ[\"NVIDIA_API_KEY\"] = \"nvapi-XXXXXXXXXXXXXXXXXXXXXXXXXXXXXXXXXXXXXXXXXXXXXXXXXXXX\""
   ]
  },
  {
   "cell_type": "markdown",
   "metadata": {
    "id": "UgapcW7_1DTF"
   },
   "source": [
    "Conversation history can be accessed in the Langsmith/Langchain dashboard when using this endpoint"
   ]
  },
  {
   "cell_type": "code",
   "execution_count": 8,
   "metadata": {
    "id": "oXbeKhqm1DTF"
   },
   "outputs": [],
   "source": [
    "os.environ[\"LANGCHAIN_TRACING_V2\"]=\"true\"\n",
    "os.environ[\"LANGCHAIN_ENDPOINT\"]=\"https://api.smith.langchain.com\"\n",
    "os.environ[\"LANGSMITH_API_KEY\"]=\"<INSERT LANGSMITH API KEY>\"\n",
    "os.environ[\"LANGCHAIN_PROJECT\"]=\"<INSERT ANY PROJECT NAME>\"\n",
    "\n",
    "# os.environ[\"LANGCHAIN_TRACING_V2\"]=\"true\"\n",
    "# os.environ[\"LANGCHAIN_ENDPOINT\"]=\"https://api.smith.langchain.com\"\n",
    "# os.environ[\"LANGSMITH_API_KEY\"]=\"lsv2_pt_XXXXXXXXXXXXXXXXXXXXXXXXXXXXXXXXXXXXXXXXXXXX\"\n",
    "# os.environ[\"LANGCHAIN_PROJECT\"]=\"project_name_1\"\n",
    "\n",
    "\n",
    "os.environ[\"TAVILY_API_KEY\"]=\"<INSERT TAVILY API KEY>\"\n",
    "\n",
    "# os.environ[\"TAVILY_API_KEY\"]=\"tvly-XXXXXXXXXXXXXXXXXXXXXXXXXXXXXXXXXXX\""
   ]
  },
  {
   "cell_type": "markdown",
   "metadata": {
    "id": "ahSZHpzG9rLr"
   },
   "source": [
    "For more information on LangGraph visit their [Quickstart Guide](https://langchain-ai.github.io/langgraph/tutorials/introduction/#requirements)."
   ]
  },
  {
   "cell_type": "markdown",
   "metadata": {
    "id": "ZVeuJp021DTG"
   },
   "source": [
    "## LLM Initialisation"
   ]
  },
  {
   "cell_type": "code",
   "execution_count": 11,
   "metadata": {
    "id": "kbl46gwz1DTG"
   },
   "outputs": [],
   "source": [
    "# Generate response\n",
    "llm = ChatNVIDIA(\n",
    "    model=\"nvdev/meta/llama-3.1-70b-instruct\",\n",
    "    nvidia_api_key=os.environ[\"NVIDIA_API_KEY\"],\n",
    ")"
   ]
  },
  {
   "cell_type": "code",
   "execution_count": 12,
   "metadata": {
    "colab": {
     "base_uri": "https://localhost:8080/"
    },
    "executionInfo": {
     "elapsed": 12,
     "status": "ok",
     "timestamp": 1742261272820,
     "user": {
      "displayName": "Darren Tan SG",
      "userId": "07785499131391784730"
     },
     "user_tz": -480
    },
    "id": "3Uqo64x41DTG",
    "outputId": "f9417e5f-91ba-4667-fe98-0869bf1eb1d3"
   },
   "outputs": [
    {
     "data": {
      "text/plain": [
       "ChatNVIDIA(base_url='https://integrate.api.nvidia.com/v1', model='nvdev/meta/llama-3.1-70b-instruct')"
      ]
     },
     "execution_count": 12,
     "metadata": {},
     "output_type": "execute_result"
    }
   ],
   "source": [
    "llm"
   ]
  },
  {
   "cell_type": "markdown",
   "metadata": {
    "id": "wzxLLOdi1DTG"
   },
   "source": [
    "# 🛠️ First Capability: Memory-Augmented Chatbot (Persistent Memory with LangGraph)\n",
    "\n",
    "Exploring implementing conversational memory into the LangGraph graphing framework.\n",
    "\n",
    "Let's build a chatbot that remembers user input (e.g., name), using LangGraph and MemorySaver.\n",
    "\n"
   ]
  },
  {
   "cell_type": "markdown",
   "metadata": {
    "id": "2nqDAbZ4AUIT"
   },
   "source": [
    "This `State` class is a typed dictionary for storing a conversation’s history. The `messages` key is annotated so new AI or user messages get appended, enabling a memory-based ReAct agent to retain context and maintain an ongoing conversation."
   ]
  },
  {
   "cell_type": "code",
   "execution_count": 13,
   "metadata": {
    "id": "VIzUeSQH1DTG"
   },
   "outputs": [],
   "source": [
    "class State(TypedDict):\n",
    "    messages: Annotated[list, add_messages]"
   ]
  },
  {
   "cell_type": "markdown",
   "metadata": {
    "id": "PSzBUTJpyYZ4"
   },
   "source": [
    "We’re creating a graph that leverages our `State` class to remember all user and AI messages"
   ]
  },
  {
   "cell_type": "code",
   "execution_count": 14,
   "metadata": {
    "id": "nJB9iASd1DTG"
   },
   "outputs": [],
   "source": [
    "graph_builder = StateGraph(State)"
   ]
  },
  {
   "cell_type": "markdown",
   "metadata": {
    "id": "Ks0zuwYK1DTH"
   },
   "source": [
    "Define a function that takes the current conversation state and returns a new AI-generated message by invoking the language model on the existing message history.\n"
   ]
  },
  {
   "cell_type": "code",
   "execution_count": 15,
   "metadata": {
    "id": "ygQFx_Rp1DTH"
   },
   "outputs": [],
   "source": [
    "def chatbot(state: State):\n",
    "    return {\"messages\": [llm.invoke(state[\"messages\"])]}"
   ]
  },
  {
   "cell_type": "markdown",
   "metadata": {
    "id": "INXk1Cpy1DTH"
   },
   "source": [
    "These lines add the chatbot function as a node in the LangGraph workflow, then define the execution flow to start at START, run the chatbot node, and proceed to END after the chatbot generates a response."
   ]
  },
  {
   "cell_type": "code",
   "execution_count": 16,
   "metadata": {
    "colab": {
     "base_uri": "https://localhost:8080/"
    },
    "executionInfo": {
     "elapsed": 45,
     "status": "ok",
     "timestamp": 1742261272919,
     "user": {
      "displayName": "Darren Tan SG",
      "userId": "07785499131391784730"
     },
     "user_tz": -480
    },
    "id": "cl07YsnI1DTH",
    "outputId": "0d4cdc67-e03b-4a55-cf58-1e6551915727"
   },
   "outputs": [
    {
     "data": {
      "text/plain": [
       "<langgraph.graph.state.StateGraph at 0x7f52967e2610>"
      ]
     },
     "execution_count": 16,
     "metadata": {},
     "output_type": "execute_result"
    }
   ],
   "source": [
    "# Adding the chatbot node to our graph with a unique name.\n",
    "graph_builder.add_node(\"chatbot\", chatbot)\n",
    "\n",
    "# Defining the flow: Start → Chatbot\n",
    "graph_builder.add_edge(START, \"chatbot\")\n",
    "\n",
    "# After the chatbot node, the workflow goes to the End.\n",
    "graph_builder.add_edge(\"chatbot\", END)"
   ]
  },
  {
   "cell_type": "markdown",
   "metadata": {
    "id": "2BWLTzZD1DTH"
   },
   "source": [
    "Initializes a `MemorySaver` to persist conversation state between interactions and compiles the LangGraph workflow with this memory checkpointing, enabling the agent to retain and update its message history across turns."
   ]
  },
  {
   "cell_type": "code",
   "execution_count": 17,
   "metadata": {
    "id": "CO-gWMIs1DTH"
   },
   "outputs": [],
   "source": [
    "memory = MemorySaver()\n",
    "graph = graph_builder.compile(checkpointer=memory)"
   ]
  },
  {
   "cell_type": "markdown",
   "metadata": {
    "id": "EVPETjj82kMJ"
   },
   "source": [
    "This code initializes a unique session (thread_id), feeds the user's message into the LangGraph workflow, streams the AI's response in real time, and prints the latest message in the conversation"
   ]
  },
  {
   "cell_type": "code",
   "execution_count": 19,
   "metadata": {
    "colab": {
     "base_uri": "https://localhost:8080/"
    },
    "executionInfo": {
     "elapsed": 1264,
     "status": "ok",
     "timestamp": 1742261274188,
     "user": {
      "displayName": "Darren Tan SG",
      "userId": "07785499131391784730"
     },
     "user_tz": -480
    },
    "id": "yE0wH2Su1DTI",
    "outputId": "371061df-4f25-45ce-cf35-7b9a7ee8030d"
   },
   "outputs": [
    {
     "name": "stdout",
     "output_type": "stream",
     "text": [
      "================================\u001b[1m Human Message \u001b[0m=================================\n",
      "\n",
      "Hi! My name is Will\n",
      "==================================\u001b[1m Ai Message \u001b[0m==================================\n",
      "\n",
      "Nice to meet you, Will! Is there something I can help you with or would you like to chat for a bit?\n"
     ]
    }
   ],
   "source": [
    "# Identifier for the specific chat\n",
    "thread_id = \"memory_only\"\n",
    "\n",
    "config = {\"configurable\": {\"thread_id\": thread_id}}\n",
    "\n",
    "user_input = \"Hi! My name is Will\"\n",
    "\n",
    "# Initial state (with user's message) is fed into the workflow\n",
    "# Chatbot node takes the current conversation and generates a response using llm.invoke, and then appends that response to \"messages\" list\n",
    "events = graph.stream(\n",
    "    {\"messages\": [{\"role\": \"user\", \"content\": user_input}]},\n",
    "    config,\n",
    "    stream_mode=\"values\",\n",
    ")\n",
    "for event in events:\n",
    "    event[\"messages\"][-1].pretty_print()"
   ]
  },
  {
   "cell_type": "markdown",
   "metadata": {},
   "source": [
    "This code takes different kinds of objects—like AI or user messages—and turns them into easy-to-read JSON so we can see what’s going on inside the chatbot’s memory."
   ]
  },
  {
   "cell_type": "code",
   "execution_count": 20,
   "metadata": {
    "id": "yVYiJv3k1DTI"
   },
   "outputs": [],
   "source": [
    "# # Function to format the output into pretty print\n",
    "# # Defining custom JSON serialisable to print the indents for the JSON response\n",
    "# def custom_serializer(obj):\n",
    "#     # If the object has a method to convert to a dict, use it.\n",
    "#     if hasattr(obj, \"dict\"):\n",
    "#         return obj.dict()\n",
    "#     # If it's a HumanMessage-like object, try to convert it manually.\n",
    "#     # Adjust the attribute names as needed for your specific object.\n",
    "#     if hasattr(obj, \"role\") and hasattr(obj, \"content\"):\n",
    "#         return {\"role\": obj.role, \"content\": obj.content}\n",
    "#     # Fallback: convert to string.\n",
    "#     return str(obj)\n",
    "\n",
    "def custom_serializer(obj):\n",
    "    \"\"\"\n",
    "    Converts the given object into a JSON-serializable dictionary or string.\n",
    "    1. If the object has a dict() method, use that.\n",
    "    2. If it has 'role' and 'content' attributes (Langchain messages), map them to a dict.\n",
    "    3. Otherwise, return its string representation.\n",
    "    \"\"\"\n",
    "    if hasattr(obj, \"dict\"):\n",
    "        return obj.dict()\n",
    "    if hasattr(obj, \"role\") and hasattr(obj, \"content\"):\n",
    "        return {\"role\": obj.role, \"content\": obj.content}\n",
    "    return str(obj)"
   ]
  },
  {
   "cell_type": "markdown",
   "metadata": {
    "id": "T2ZJ3WLi1DTI"
   },
   "source": [
    "Showcasing the conversational memory property as it is able to remember the user's name.\n",
    "\n",
    "Why this works:\n",
    "- MemorySaver stores messages. The LLM sees the whole conversation and answers accordingly."
   ]
  },
  {
   "cell_type": "code",
   "execution_count": 21,
   "metadata": {
    "colab": {
     "base_uri": "https://localhost:8080/"
    },
    "executionInfo": {
     "elapsed": 1259,
     "status": "ok",
     "timestamp": 1742261275454,
     "user": {
      "displayName": "Darren Tan SG",
      "userId": "07785499131391784730"
     },
     "user_tz": -480
    },
    "id": "RLq3Y3Kv1DTI",
    "outputId": "589975c5-2c21-4cb8-87cf-ad2ca10a340e"
   },
   "outputs": [
    {
     "name": "stdout",
     "output_type": "stream",
     "text": [
      "================================\u001b[1m Human Message \u001b[0m=================================\n",
      "\n",
      "Remember my name?\n",
      "==================================\u001b[1m Ai Message \u001b[0m==================================\n",
      "\n",
      "Your name is Will. I'll remember it for our conversation, so feel free to forget and have a nice chat.\n"
     ]
    }
   ],
   "source": [
    "user_input = \"Remember my name?\"\n",
    "\n",
    "events = graph.stream(\n",
    "    {\"messages\": [{\"role\": \"user\", \"content\": user_input}]},\n",
    "    config,\n",
    "    stream_mode=\"values\",\n",
    ")\n",
    "for event in events:\n",
    "    event[\"messages\"][-1].pretty_print()"
   ]
  },
  {
   "cell_type": "markdown",
   "metadata": {
    "id": "WqtFqAzO1DTI"
   },
   "source": [
    "### Explainability into how the state changes\n",
    "\n",
    "`messages` contains the conversational history as a list of dictionaries, with each **content** key storing the message sent by the AI or human. By looking into the memory of the current conversation (`\"thread_id\": memory_only`), we can observe that the list of AI and human messages are the same ones we've seen before."
   ]
  },
  {
   "cell_type": "code",
   "execution_count": 22,
   "metadata": {
    "colab": {
     "base_uri": "https://localhost:8080/"
    },
    "executionInfo": {
     "elapsed": 11,
     "status": "ok",
     "timestamp": 1742261275456,
     "user": {
      "displayName": "Darren Tan SG",
      "userId": "07785499131391784730"
     },
     "user_tz": -480
    },
    "id": "CI8ZAdNF1DTI",
    "outputId": "e996bc1c-f443-4f22-d13a-92421cfb1976"
   },
   "outputs": [
    {
     "name": "stdout",
     "output_type": "stream",
     "text": [
      "\n",
      "====================== What is happening behind the scenes:======================\n",
      "{\n",
      "  \"v\": 2,\n",
      "  \"ts\": \"2025-04-03T02:32:03.225164+00:00\",\n",
      "  \"id\": \"1f01033d-3dba-6f9d-8004-061f83b80444\",\n",
      "  \"channel_versions\": {\n",
      "    \"__start__\": \"00000000000000000000000000000005.0.8719398111661636\",\n",
      "    \"messages\": \"00000000000000000000000000000006.0.3861066983480711\",\n",
      "    \"branch:to:chatbot\": \"00000000000000000000000000000006.0.17793580942657927\"\n",
      "  },\n",
      "  \"versions_seen\": {\n",
      "    \"__input__\": {},\n",
      "    \"__start__\": {\n",
      "      \"__start__\": \"00000000000000000000000000000004.0.8470586793092042\"\n",
      "    },\n",
      "    \"chatbot\": {\n",
      "      \"branch:to:chatbot\": \"00000000000000000000000000000005.0.29548704764252354\"\n",
      "    }\n",
      "  },\n",
      "  \"channel_values\": {\n",
      "    \"messages\": [\n",
      "      {\n",
      "        \"content\": \"Hi! My name is Will\",\n",
      "        \"additional_kwargs\": {},\n",
      "        \"response_metadata\": {},\n",
      "        \"type\": \"human\",\n",
      "        \"name\": null,\n",
      "        \"id\": \"5b0e0bda-74ba-47d7-9885-ef904fab22f4\",\n",
      "        \"example\": false\n",
      "      },\n",
      "      {\n",
      "        \"content\": \"Nice to meet you, Will! Is there something I can help you with or would you like to chat for a bit?\",\n",
      "        \"additional_kwargs\": {},\n",
      "        \"response_metadata\": {\n",
      "          \"role\": \"assistant\",\n",
      "          \"content\": \"Nice to meet you, Will! Is there something I can help you with or would you like to chat for a bit?\",\n",
      "          \"token_usage\": {\n",
      "            \"prompt_tokens\": 16,\n",
      "            \"total_tokens\": 41,\n",
      "            \"completion_tokens\": 25\n",
      "          },\n",
      "          \"finish_reason\": \"stop\",\n",
      "          \"model_name\": \"nvdev/meta/llama-3.1-70b-instruct\"\n",
      "        },\n",
      "        \"type\": \"ai\",\n",
      "        \"name\": null,\n",
      "        \"id\": \"run-e59f5547-8bba-4ac6-a04b-0fe8225c70af-0\",\n",
      "        \"example\": false,\n",
      "        \"tool_calls\": [],\n",
      "        \"invalid_tool_calls\": [],\n",
      "        \"usage_metadata\": {\n",
      "          \"input_tokens\": 16,\n",
      "          \"output_tokens\": 25,\n",
      "          \"total_tokens\": 41\n",
      "        },\n",
      "        \"role\": \"assistant\"\n",
      "      },\n",
      "      {\n",
      "        \"content\": \"Remember my name?\",\n",
      "        \"additional_kwargs\": {},\n",
      "        \"response_metadata\": {},\n",
      "        \"type\": \"human\",\n",
      "        \"name\": null,\n",
      "        \"id\": \"d44defb6-f322-44c4-b3d2-78e965786a87\",\n",
      "        \"example\": false\n",
      "      },\n",
      "      {\n",
      "        \"content\": \"Your name is Will. I'll remember it for our conversation, so feel free to forget and have a nice chat.\",\n",
      "        \"additional_kwargs\": {},\n",
      "        \"response_metadata\": {\n",
      "          \"role\": \"assistant\",\n",
      "          \"content\": \"Your name is Will. I'll remember it for our conversation, so feel free to forget and have a nice chat.\",\n",
      "          \"token_usage\": {\n",
      "            \"prompt_tokens\": 55,\n",
      "            \"total_tokens\": 79,\n",
      "            \"completion_tokens\": 24\n",
      "          },\n",
      "          \"finish_reason\": \"stop\",\n",
      "          \"model_name\": \"nvdev/meta/llama-3.1-70b-instruct\"\n",
      "        },\n",
      "        \"type\": \"ai\",\n",
      "        \"name\": null,\n",
      "        \"id\": \"run-0f80e2b1-413f-44fd-905b-674d02023495-0\",\n",
      "        \"example\": false,\n",
      "        \"tool_calls\": [],\n",
      "        \"invalid_tool_calls\": [],\n",
      "        \"usage_metadata\": {\n",
      "          \"input_tokens\": 55,\n",
      "          \"output_tokens\": 24,\n",
      "          \"total_tokens\": 79\n",
      "        },\n",
      "        \"role\": \"assistant\"\n",
      "      }\n",
      "    ]\n",
      "  },\n",
      "  \"pending_sends\": []\n",
      "}\n"
     ]
    },
    {
     "name": "stderr",
     "output_type": "stream",
     "text": [
      "/tmp/ipykernel_36189/914072350.py:6: PydanticDeprecatedSince20: The `dict` method is deprecated; use `model_dump` instead. Deprecated in Pydantic V2.0 to be removed in V3.0. See Pydantic V2 Migration Guide at https://errors.pydantic.dev/2.11/migration/\n",
      "  return obj.dict()\n"
     ]
    }
   ],
   "source": [
    "print(\"\\n====================== What is happening behind the scenes:======================\")\n",
    "print(json.dumps(memory.get(config), indent=2, default=custom_serializer))"
   ]
  },
  {
   "cell_type": "markdown",
   "metadata": {
    "id": "7rYuQela1DTI"
   },
   "source": [
    "Let's take a closer look into how `messages` changes throughout the conversation.\n",
    "\n",
    "Running the cell below executes 2 runs of the conversation which includes logging of `messages` to study its changes.\n",
    "\n",
    "<details>\n",
    "  <summary><strong>More info</strong></summary>\n",
    "\n",
    "Similar to the previous `chatbot` function built before, `chatbot_with_logging` is built like this:\n",
    "\n",
    "- The LLM is invoked with the current state of `messages`.\n",
    "\n",
    "- **new_message**: Single AI message you receive based on the conversational memory\n",
    "\n",
    "- The **new_message** will be appended to `messages` due to the previously declared `add_messages` annotation in State.\n",
    "\n",
    "</details>"
   ]
  },
  {
   "cell_type": "markdown",
   "metadata": {},
   "source": [
    "![image](img/flowchart.png)"
   ]
  },
  {
   "cell_type": "code",
   "execution_count": 23,
   "metadata": {
    "colab": {
     "base_uri": "https://localhost:8080/"
    },
    "executionInfo": {
     "elapsed": 1118,
     "status": "ok",
     "timestamp": 1742261276572,
     "user": {
      "displayName": "Darren Tan SG",
      "userId": "07785499131391784730"
     },
     "user_tz": -480
    },
    "id": "qnUUcYAF1DTI",
    "outputId": "4d456026-456c-4f19-9b36-e59b0459e101"
   },
   "outputs": [
    {
     "name": "stdout",
     "output_type": "stream",
     "text": [
      "================================\u001b[1m Human Message \u001b[0m=================================\n",
      "\n",
      "Hi! My name is Will\n",
      "\n",
      "\n",
      "Current conversation history: [HumanMessage(content='Hi! My name is Will', additional_kwargs={}, response_metadata={}, id='2c398263-c9c6-41e5-bc65-d513ca60ceb7')]\n",
      "\n",
      "\n",
      "New message from LLM:\n",
      "{\n",
      "  \"content\": \"Nice to meet you, Will! Is there something I can help you with or would you like to chat for a bit?\",\n",
      "  \"additional_kwargs\": {},\n",
      "  \"response_metadata\": {\n",
      "    \"role\": \"assistant\",\n",
      "    \"content\": \"Nice to meet you, Will! Is there something I can help you with or would you like to chat for a bit?\",\n",
      "    \"token_usage\": {\n",
      "      \"prompt_tokens\": 16,\n",
      "      \"total_tokens\": 41,\n",
      "      \"completion_tokens\": 25\n",
      "    },\n",
      "    \"finish_reason\": \"stop\",\n",
      "    \"model_name\": \"nvdev/meta/llama-3.1-70b-instruct\"\n",
      "  },\n",
      "  \"type\": \"ai\",\n",
      "  \"name\": null,\n",
      "  \"id\": \"run-411ae040-5193-4103-adcf-ee22bf4d032a-0\",\n",
      "  \"example\": false,\n",
      "  \"tool_calls\": [],\n",
      "  \"invalid_tool_calls\": [],\n",
      "  \"usage_metadata\": {\n",
      "    \"input_tokens\": 16,\n",
      "    \"output_tokens\": 25,\n",
      "    \"total_tokens\": 41\n",
      "  },\n",
      "  \"role\": \"assistant\"\n",
      "}\n",
      "\n",
      "\n",
      "==================================\u001b[1m Ai Message \u001b[0m==================================\n",
      "\n",
      "Nice to meet you, Will! Is there something I can help you with or would you like to chat for a bit?\n",
      "================================\u001b[1m Human Message \u001b[0m=================================\n",
      "\n",
      "Remember my name?\n",
      "\n",
      "\n",
      "Current conversation history: [HumanMessage(content='Hi! My name is Will', additional_kwargs={}, response_metadata={}, id='2c398263-c9c6-41e5-bc65-d513ca60ceb7'), AIMessage(content='Nice to meet you, Will! Is there something I can help you with or would you like to chat for a bit?', additional_kwargs={}, response_metadata={'role': 'assistant', 'content': 'Nice to meet you, Will! Is there something I can help you with or would you like to chat for a bit?', 'token_usage': {'prompt_tokens': 16, 'total_tokens': 41, 'completion_tokens': 25}, 'finish_reason': 'stop', 'model_name': 'nvdev/meta/llama-3.1-70b-instruct'}, id='run-411ae040-5193-4103-adcf-ee22bf4d032a-0', usage_metadata={'input_tokens': 16, 'output_tokens': 25, 'total_tokens': 41}, role='assistant'), HumanMessage(content='Remember my name?', additional_kwargs={}, response_metadata={}, id='edaf613b-690f-4f49-bc61-a81c4c57eadd')]\n",
      "\n",
      "\n"
     ]
    },
    {
     "name": "stderr",
     "output_type": "stream",
     "text": [
      "/tmp/ipykernel_36189/914072350.py:6: PydanticDeprecatedSince20: The `dict` method is deprecated; use `model_dump` instead. Deprecated in Pydantic V2.0 to be removed in V3.0. See Pydantic V2 Migration Guide at https://errors.pydantic.dev/2.11/migration/\n",
      "  return obj.dict()\n"
     ]
    },
    {
     "name": "stdout",
     "output_type": "stream",
     "text": [
      "New message from LLM:\n",
      "{\n",
      "  \"content\": \"Your name is Will. I'll remember it for our conversation, so feel free to forget and have a nice chat.\",\n",
      "  \"additional_kwargs\": {},\n",
      "  \"response_metadata\": {\n",
      "    \"role\": \"assistant\",\n",
      "    \"content\": \"Your name is Will. I'll remember it for our conversation, so feel free to forget and have a nice chat.\",\n",
      "    \"token_usage\": {\n",
      "      \"prompt_tokens\": 55,\n",
      "      \"total_tokens\": 79,\n",
      "      \"completion_tokens\": 24\n",
      "    },\n",
      "    \"finish_reason\": \"stop\",\n",
      "    \"model_name\": \"nvdev/meta/llama-3.1-70b-instruct\"\n",
      "  },\n",
      "  \"type\": \"ai\",\n",
      "  \"name\": null,\n",
      "  \"id\": \"run-c2896b6a-db46-4a86-a9aa-547b11d49dfd-0\",\n",
      "  \"example\": false,\n",
      "  \"tool_calls\": [],\n",
      "  \"invalid_tool_calls\": [],\n",
      "  \"usage_metadata\": {\n",
      "    \"input_tokens\": 55,\n",
      "    \"output_tokens\": 24,\n",
      "    \"total_tokens\": 79\n",
      "  },\n",
      "  \"role\": \"assistant\"\n",
      "}\n",
      "\n",
      "\n",
      "==================================\u001b[1m Ai Message \u001b[0m==================================\n",
      "\n",
      "Your name is Will. I'll remember it for our conversation, so feel free to forget and have a nice chat.\n"
     ]
    },
    {
     "name": "stderr",
     "output_type": "stream",
     "text": [
      "/tmp/ipykernel_36189/914072350.py:6: PydanticDeprecatedSince20: The `dict` method is deprecated; use `model_dump` instead. Deprecated in Pydantic V2.0 to be removed in V3.0. See Pydantic V2 Migration Guide at https://errors.pydantic.dev/2.11/migration/\n",
      "  return obj.dict()\n"
     ]
    }
   ],
   "source": [
    "def chatbot_with_logging(state: State):\n",
    "    print(\"\\n\")\n",
    "    print(\"Current conversation history:\", state[\"messages\"])\n",
    "    print(\"\\n\")\n",
    "    new_message = llm.invoke(state[\"messages\"])\n",
    "    print(\"New message from LLM:\")\n",
    "    print(json.dumps(new_message, indent=2, default=custom_serializer))\n",
    "    print(\"\\n\")\n",
    "    return {\"messages\": [new_message]}\n",
    "\n",
    "graph_builder_with_logging = StateGraph(State)\n",
    "\n",
    "# Adding the chatbot node to our graph with a unique name.\n",
    "graph_builder_with_logging.add_node(\"chatbot\", chatbot_with_logging)\n",
    "\n",
    "# Defining the flow: Start → Chatbot\n",
    "graph_builder_with_logging.add_edge(START, \"chatbot\")\n",
    "\n",
    "# After the chatbot node, the workflow goes to the End.\n",
    "graph_builder_with_logging.add_edge(\"chatbot\", END)\n",
    "\n",
    "memory_with_logging = MemorySaver()\n",
    "graph_with_logging = graph_builder_with_logging.compile(checkpointer=memory_with_logging)\n",
    "\n",
    "# Should be different from the previous in order to get a fresh conversation\n",
    "thread_id = \"memory_only_with_logging\"\n",
    "\n",
    "config = {\"configurable\": {\"thread_id\": thread_id}}\n",
    "\n",
    "user_input = \"Hi! My name is Will\"\n",
    "\n",
    "events = graph_with_logging.stream(\n",
    "    {\"messages\": [{\"role\": \"user\", \"content\": user_input}]},\n",
    "    config,\n",
    "    stream_mode=\"values\",\n",
    ")\n",
    "for event in events:\n",
    "    event[\"messages\"][-1].pretty_print()\n",
    "\n",
    "user_input_2 = \"Remember my name?\"\n",
    "\n",
    "events_2 = graph_with_logging.stream(\n",
    "    {\"messages\": [{\"role\": \"user\", \"content\": user_input_2}]},\n",
    "    config,\n",
    "    stream_mode=\"values\",\n",
    ")\n",
    "for event in events_2:\n",
    "    event[\"messages\"][-1].pretty_print()"
   ]
  },
  {
   "cell_type": "code",
   "execution_count": 24,
   "metadata": {
    "colab": {
     "base_uri": "https://localhost:8080/"
    },
    "executionInfo": {
     "elapsed": 22,
     "status": "ok",
     "timestamp": 1742261276596,
     "user": {
      "displayName": "Darren Tan SG",
      "userId": "07785499131391784730"
     },
     "user_tz": -480
    },
    "id": "psHQDWT01DTI",
    "outputId": "b17d1856-23d3-4b58-c737-38f512be76bb"
   },
   "outputs": [
    {
     "name": "stdout",
     "output_type": "stream",
     "text": [
      "\n",
      "====================== What is happening behind the scenes:======================\n",
      "{\n",
      "  \"v\": 2,\n",
      "  \"ts\": \"2025-04-03T02:32:04.843335+00:00\",\n",
      "  \"id\": \"1f01033d-4d29-694d-8004-2a5e4b49db96\",\n",
      "  \"channel_versions\": {\n",
      "    \"__start__\": \"00000000000000000000000000000005.0.15795681544892726\",\n",
      "    \"messages\": \"00000000000000000000000000000006.0.3480934308018462\",\n",
      "    \"branch:to:chatbot\": \"00000000000000000000000000000006.0.05224267947311301\"\n",
      "  },\n",
      "  \"versions_seen\": {\n",
      "    \"__input__\": {},\n",
      "    \"__start__\": {\n",
      "      \"__start__\": \"00000000000000000000000000000004.0.04569377466154201\"\n",
      "    },\n",
      "    \"chatbot\": {\n",
      "      \"branch:to:chatbot\": \"00000000000000000000000000000005.0.3843627905110343\"\n",
      "    }\n",
      "  },\n",
      "  \"channel_values\": {\n",
      "    \"messages\": [\n",
      "      {\n",
      "        \"content\": \"Hi! My name is Will\",\n",
      "        \"additional_kwargs\": {},\n",
      "        \"response_metadata\": {},\n",
      "        \"type\": \"human\",\n",
      "        \"name\": null,\n",
      "        \"id\": \"2c398263-c9c6-41e5-bc65-d513ca60ceb7\",\n",
      "        \"example\": false\n",
      "      },\n",
      "      {\n",
      "        \"content\": \"Nice to meet you, Will! Is there something I can help you with or would you like to chat for a bit?\",\n",
      "        \"additional_kwargs\": {},\n",
      "        \"response_metadata\": {\n",
      "          \"role\": \"assistant\",\n",
      "          \"content\": \"Nice to meet you, Will! Is there something I can help you with or would you like to chat for a bit?\",\n",
      "          \"token_usage\": {\n",
      "            \"prompt_tokens\": 16,\n",
      "            \"total_tokens\": 41,\n",
      "            \"completion_tokens\": 25\n",
      "          },\n",
      "          \"finish_reason\": \"stop\",\n",
      "          \"model_name\": \"nvdev/meta/llama-3.1-70b-instruct\"\n",
      "        },\n",
      "        \"type\": \"ai\",\n",
      "        \"name\": null,\n",
      "        \"id\": \"run-411ae040-5193-4103-adcf-ee22bf4d032a-0\",\n",
      "        \"example\": false,\n",
      "        \"tool_calls\": [],\n",
      "        \"invalid_tool_calls\": [],\n",
      "        \"usage_metadata\": {\n",
      "          \"input_tokens\": 16,\n",
      "          \"output_tokens\": 25,\n",
      "          \"total_tokens\": 41\n",
      "        },\n",
      "        \"role\": \"assistant\"\n",
      "      },\n",
      "      {\n",
      "        \"content\": \"Remember my name?\",\n",
      "        \"additional_kwargs\": {},\n",
      "        \"response_metadata\": {},\n",
      "        \"type\": \"human\",\n",
      "        \"name\": null,\n",
      "        \"id\": \"edaf613b-690f-4f49-bc61-a81c4c57eadd\",\n",
      "        \"example\": false\n",
      "      },\n",
      "      {\n",
      "        \"content\": \"Your name is Will. I'll remember it for our conversation, so feel free to forget and have a nice chat.\",\n",
      "        \"additional_kwargs\": {},\n",
      "        \"response_metadata\": {\n",
      "          \"role\": \"assistant\",\n",
      "          \"content\": \"Your name is Will. I'll remember it for our conversation, so feel free to forget and have a nice chat.\",\n",
      "          \"token_usage\": {\n",
      "            \"prompt_tokens\": 55,\n",
      "            \"total_tokens\": 79,\n",
      "            \"completion_tokens\": 24\n",
      "          },\n",
      "          \"finish_reason\": \"stop\",\n",
      "          \"model_name\": \"nvdev/meta/llama-3.1-70b-instruct\"\n",
      "        },\n",
      "        \"type\": \"ai\",\n",
      "        \"name\": null,\n",
      "        \"id\": \"run-c2896b6a-db46-4a86-a9aa-547b11d49dfd-0\",\n",
      "        \"example\": false,\n",
      "        \"tool_calls\": [],\n",
      "        \"invalid_tool_calls\": [],\n",
      "        \"usage_metadata\": {\n",
      "          \"input_tokens\": 55,\n",
      "          \"output_tokens\": 24,\n",
      "          \"total_tokens\": 79\n",
      "        },\n",
      "        \"role\": \"assistant\"\n",
      "      }\n",
      "    ]\n",
      "  },\n",
      "  \"pending_sends\": []\n",
      "}\n"
     ]
    },
    {
     "name": "stderr",
     "output_type": "stream",
     "text": [
      "/tmp/ipykernel_36189/914072350.py:6: PydanticDeprecatedSince20: The `dict` method is deprecated; use `model_dump` instead. Deprecated in Pydantic V2.0 to be removed in V3.0. See Pydantic V2 Migration Guide at https://errors.pydantic.dev/2.11/migration/\n",
      "  return obj.dict()\n"
     ]
    }
   ],
   "source": [
    "print(\"\\n====================== What is happening behind the scenes:======================\")\n",
    "print(json.dumps(memory_with_logging.get(config), indent=2, default=custom_serializer))"
   ]
  },
  {
   "cell_type": "markdown",
   "metadata": {
    "id": "7AO1U8O95Ux4"
   },
   "source": [
    "<summary><strong>What do we observe?</strong></summary>\n",
    "\n",
    "Human and generated AI messages are appended to `messages` in chronological order as a list in HumanMessage or AIMessage Langchain object accordingly.\n",
    "\n",
    "This graph depicts how `messages` changes, which is then stored using `MemorySaver()` by `StateGraph` from LangGraph.\n"
   ]
  },
  {
   "cell_type": "markdown",
   "metadata": {
    "id": "x5d0f7u41DTI"
   },
   "source": [
    "### Optional: Using .invoke instead of .stream\n",
    "\n",
    "Use stream when you would like the output in chunks, usually when displaying the frontend chatbot interactively. Streaming is not apparent in this jupyter notebook implementation."
   ]
  },
  {
   "cell_type": "code",
   "execution_count": 25,
   "metadata": {
    "colab": {
     "base_uri": "https://localhost:8080/"
    },
    "executionInfo": {
     "elapsed": 2130,
     "status": "ok",
     "timestamp": 1742261278726,
     "user": {
      "displayName": "Darren Tan SG",
      "userId": "07785499131391784730"
     },
     "user_tz": -480
    },
    "id": "zqmli4ro1DTI",
    "outputId": "1719468a-8c38-48c1-fdce-5f8b69ec6a6b"
   },
   "outputs": [
    {
     "name": "stdout",
     "output_type": "stream",
     "text": [
      "The capital of France is Paris.\n"
     ]
    }
   ],
   "source": [
    "thread_id = \"testing_invoke\"\n",
    "\n",
    "config = {\"configurable\": {\"thread_id\": thread_id}}\n",
    "\n",
    "result = graph.invoke(\n",
    "    {\"messages\": [{\"role\": \"user\", \"content\": \"What is the capital of France?\"}]},\n",
    "    config=config,\n",
    ")\n",
    "print(result[\"messages\"][-1].content)"
   ]
  },
  {
   "cell_type": "markdown",
   "metadata": {
    "id": "6hlX_CTL1DTI"
   },
   "source": [
    "# 🕵️ Second Capability: ReAct Agent with Tavily tool (No Memory)\n",
    "\n",
    "Let's now explore how to implement the Tavily web search tool with LangGraph's create_react_agent. No conversational memory will be implemented yet, we will only be executing a single run to showcase the web search capability."
   ]
  },
  {
   "cell_type": "code",
   "execution_count": 26,
   "metadata": {
    "colab": {
     "base_uri": "https://localhost:8080/"
    },
    "executionInfo": {
     "elapsed": 31561,
     "status": "ok",
     "timestamp": 1742261310300,
     "user": {
      "displayName": "Darren Tan SG",
      "userId": "07785499131391784730"
     },
     "user_tz": -480
    },
    "id": "iMHwPhbD1DTJ",
    "outputId": "d75083c3-cfd5-4cf2-f4d5-e2bdbcb314ae"
   },
   "outputs": [
    {
     "name": "stderr",
     "output_type": "stream",
     "text": [
      "/media/darren/hard_disk1/New_Code/ExplorerAI playbook/env_tester/lib/python3.11/site-packages/langchain_nvidia_ai_endpoints/chat_models.py:591: UserWarning: Model 'nvdev/meta/llama-3.1-70b-instruct' is not known to support tools. Your tool binding may fail at inference time.\n",
      "  warnings.warn(\n"
     ]
    },
    {
     "name": "stdout",
     "output_type": "stream",
     "text": [
      "\n",
      "================================== Ai Message ==================================\n",
      "There are many tools available for education, including:\n",
      "\n",
      "* Educational Tools (EduTools) - an educational portal that centralizes digital resources and applications to support teaching and learning\n",
      "* Nearpod - an educational tool for interactive presentations\n",
      "* Khan Academy - an online course library\n",
      "* Whereby - a video meeting platform\n",
      "* Firefox - a web browser\n",
      "* Quizizz - an educational games and testing tool\n",
      "* Prezi - an online presentation tool\n",
      "* Raindrop - a bookmark manager\n",
      "* Descript - an audio and video editing tool\n",
      "* Masterclass - a streaming platform for video lessons\n",
      "* Outlook - an email client\n",
      "* TED Talks - inspirational videos\n",
      "* Duolingo - a language learning app\n",
      "* Quizlet - an educational games and testing tool\n",
      "* Moodle - an open-source learning platform\n",
      "* Vimeo - a video hosting and sharing platform\n",
      "* Google Classroom - an educational learning platform\n",
      "* hihaho - an interactive video tool\n",
      "* Confluence - a team collaboration software\n",
      "* Kindle Reader App - Amazon's e-book reader\n",
      "* Genially - a platform for interactive animated content\n",
      "* Synthesia - an AI video generation platform\n",
      "* Edpuzzle - a tool for creating interactive videos\n",
      "* Loom - a screen recording tool\n",
      "* Socrative - a student response tool for live engagement\n",
      "* Canvas - an educational course management system\n",
      "\n",
      "These tools can be used to support teaching and learning, and can help educators create engaging and interactive content for their students.\n",
      "{\n",
      "  \"messages\": [\n",
      "    {\n",
      "      \"content\": \"What are some tools for education?\",\n",
      "      \"additional_kwargs\": {},\n",
      "      \"response_metadata\": {},\n",
      "      \"type\": \"human\",\n",
      "      \"name\": null,\n",
      "      \"id\": \"87a1cd56-bb1b-4252-8c82-cd0b980a95f0\",\n",
      "      \"example\": false\n",
      "    },\n",
      "    {\n",
      "      \"content\": \"\",\n",
      "      \"additional_kwargs\": {\n",
      "        \"tool_calls\": [\n",
      "          {\n",
      "            \"id\": \"chatcmpl-tool-d087f4757a384ef0b78cc287b232a31c\",\n",
      "            \"type\": \"function\",\n",
      "            \"function\": {\n",
      "              \"name\": \"tavily_search_results_json\",\n",
      "              \"arguments\": \"{\\\"query\\\": \\\"educational tools\\\"}\"\n",
      "            }\n",
      "          }\n",
      "        ]\n",
      "      },\n",
      "      \"response_metadata\": {\n",
      "        \"role\": \"assistant\",\n",
      "        \"content\": null,\n",
      "        \"tool_calls\": [\n",
      "          {\n",
      "            \"id\": \"chatcmpl-tool-d087f4757a384ef0b78cc287b232a31c\",\n",
      "            \"type\": \"function\",\n",
      "            \"function\": {\n",
      "              \"name\": \"tavily_search_results_json\",\n",
      "              \"arguments\": \"{\\\"query\\\": \\\"educational tools\\\"}\"\n",
      "            }\n",
      "          }\n",
      "        ],\n",
      "        \"token_usage\": {\n",
      "          \"prompt_tokens\": 314,\n",
      "          \"total_tokens\": 330,\n",
      "          \"completion_tokens\": 16\n",
      "        },\n",
      "        \"finish_reason\": \"tool_calls\",\n",
      "        \"model_name\": \"nvdev/meta/llama-3.1-70b-instruct\"\n",
      "      },\n",
      "      \"type\": \"ai\",\n",
      "      \"name\": null,\n",
      "      \"id\": \"run-bffddce5-3ca9-4d1a-bac5-2dd710eb181f-0\",\n",
      "      \"example\": false,\n",
      "      \"tool_calls\": [\n",
      "        {\n",
      "          \"name\": \"tavily_search_results_json\",\n",
      "          \"args\": {\n",
      "            \"query\": \"educational tools\"\n",
      "          },\n",
      "          \"id\": \"chatcmpl-tool-d087f4757a384ef0b78cc287b232a31c\",\n",
      "          \"type\": \"tool_call\"\n",
      "        }\n",
      "      ],\n",
      "      \"invalid_tool_calls\": [],\n",
      "      \"usage_metadata\": {\n",
      "        \"input_tokens\": 314,\n",
      "        \"output_tokens\": 16,\n",
      "        \"total_tokens\": 330\n",
      "      },\n",
      "      \"role\": \"assistant\"\n",
      "    },\n",
      "    {\n",
      "      \"content\": \"[{\\\"url\\\": \\\"https://educational.tools/\\\", \\\"content\\\": \\\"Educational Tools (\\u00a9 EduTools) is an educational portal that centralizes digital resources and applications to support teaching and learning.\\\"}, {\\\"url\\\": \\\"https://managedmethods.com/blog/top-20-tools-for-teaching-and-learning/\\\", \\\"content\\\": \\\"Top 20 Tools for Teaching and Learning\\\\n\\\\nTeachers and students have never had as much access to educational resources as they do today. With technology at the driving seat of today\\u2019s education sector, teachers are tasked with determining which solutions will maximize learning outcomes.\\\\n\\\\nFrom video conferencing tools and learning management systems to more novel solutions like virtual reality and artificial intelligence (AI), the choices are endless. [...] On the parent front, these tools provide a platform for regular updates on student progress, direct messaging capabilities with educators, and access to upcoming school events and homework assignments\\u00a0\\u2014 keeping parents engaged and informed about their child\\u2019s educational journey.\\\\n\\\\n7. Digital feedback tools [...] From the graphic design capabilities of Canva to the video creation solutions of Adobe Premiere Pro, these platforms empower educators to create professional-quality educational content that can engage and inspire students. Such tools are invaluable for crafting visual aids, instructional videos, and interactive media that enhance the learning experience.\\\"}, {\\\"url\\\": \\\"https://toptools4learning.com/\\\", \\\"content\\\": \\\"up 7 | 80 | Nearpod | educational tool for interactive presentations\\\\nBACK | 81 | Feedly | RSS/news reader\\\\nBACK | 82 | Khan Academy | online course library\\\\ndown 28 | 83 | Whereby | video meeting platform\\\\nBACK | 84 | Firefox | web browser\\\\ndown 45 | 85 | Quizizz | educational games and testing tool\\\\ndown 17 | 86 | Prezi | online presentation tool\\\\nBACK | 87 | Raindrop | bookmark manager\\\\nBACK | 88 | Descript | audio and video editing tool [...] up 23 | 28 | Masterclass | streaming platform for video lessons\\\\ndown 6 | 29 | Outlook | email client\\\\nup 2 | 30 | TED Talks | inspirational videos\\\\nup 3 | 31 | Duolingo | language learning app\\\\nup 12 | 32 | Quizlet | educational games and testing tool\\\\nup 6 | 33 | Moodle | open source learning platform\\\\ndown 15 | 34 | Vimeo | video hosting and sharing platform\\\\ndown 20 | 35 | Google Classroom | educational learning platform\\\\nup 6 | 36 | hihaho | interactive video tool [...] BACK | 72 | Confluence | team collaboration software\\\\ndown 8 | 73 | Kindle Reader\\u00a0App | Amazon\\u2019s e-book reader\\\\ndown 4 | 74 | Genially | platform for interactive animated content\\\\nup 20 | 75 | Synthesia | AI video generation platform\\\\nup 8 | 76 | Edpuzzle | create interactive videos\\\\nup 17 | 77 | Loom | screen recording tool\\\\nBACK | 78 | Socrative | student response tool for live engagement\\\\nsame | 79 | Canvas | educational course management system\\\"}, {\\\"url\\\": \\\"https://edu.google.com/intl/ALL_us/\\\", \\\"content\\\": \\\"Get diverse tools in the hands of students and educators with minimal effort. Maintain all of your institution\\u00e2\\u0080\\u0099s tech from one place. Monitor info-sec, control access, and quickly make changes across your network using the centralized admin console.\\\\n\\\\nEducators\\\\n\\\\nSave time and enrich student learning with easy-to-use tools [...] Google for Education tools work together to transform teaching and learning so every student and educator can pursue their personal potential.\\\\n\\\\nBiomes of the World\\\\n\\\\nEducation for today and beyond\\\\n\\\\nGoogle is always testing, iterating, and rolling out new upgrades to make our products better and easier to use. Explore the latest from Google for Education.\\\\n\\\\nCollaborate with Google Workspace for Education [...] Bring flexible innovation to your school at scale\\\\n\\\\nSpend less time on administrative tasks and more time making an impact on student education. Equip your teachers with tools, resources, and professional development so they can focus on their students.\\\\n\\\\nIT Admins\\\\n\\\\nEasily deploy educational tools across your institution\\\"}, {\\\"url\\\": \\\"https://www.discoveryeducation.com/\\\", \\\"content\\\": \\\"Our engaging, effective, and easy-to-use education platform helps every school district accelerate student growth, scale teacher impact, and motivate learning every day. Industry-leading educational content, digital-first curriculum, personalized learning programs, and time-saving instructional tools enhance teaching and learning across core subjects.\\\"}]\",\n",
      "      \"additional_kwargs\": {},\n",
      "      \"response_metadata\": {},\n",
      "      \"type\": \"tool\",\n",
      "      \"name\": \"tavily_search_results_json\",\n",
      "      \"id\": \"465bfad1-733a-475d-b739-e58359b900cb\",\n",
      "      \"tool_call_id\": \"chatcmpl-tool-d087f4757a384ef0b78cc287b232a31c\",\n",
      "      \"artifact\": {\n",
      "        \"query\": \"educational tools\",\n",
      "        \"follow_up_questions\": null,\n",
      "        \"answer\": null,\n",
      "        \"images\": [\n",
      "          \"https://thumbs.dreamstime.com/z/set-educational-tools-elementary-school-different-instruments-studies-visual-aid-integrated-natural-lessons-empty-173987687.jpg\",\n",
      "          \"https://i.etsystatic.com/27579046/r/il/8b5d2a/2911016320/il_1588xN.2911016320_t2l4.jpg\",\n",
      "          \"https://pocketofpreschool.com/wp-content/uploads/2017/11/Favorite-Teacher-Tools-Cover-Edited.jpg\",\n",
      "          \"https://thumbs.dreamstime.com/z/educational-tools-set-10674480.jpg\",\n",
      "          \"https://www.cegastacademy.com/wp-content/uploads/2022/06/pexels-pixabay-270640-2048x1423.jpg\"\n",
      "        ],\n",
      "        \"results\": [\n",
      "          {\n",
      "            \"url\": \"https://educational.tools/\",\n",
      "            \"title\": \"Educational Tools - Education portal for digital productivity online\",\n",
      "            \"content\": \"Educational Tools (\\u00a9 EduTools) is an educational portal that centralizes digital resources and applications to support teaching and learning.\",\n",
      "            \"score\": 0.9368016,\n",
      "            \"raw_content\": null\n",
      "          },\n",
      "          {\n",
      "            \"url\": \"https://managedmethods.com/blog/top-20-tools-for-teaching-and-learning/\",\n",
      "            \"title\": \"Top 20 tools for Teaching and Learning | ManagedMethods\",\n",
      "            \"content\": \"Top 20 Tools for Teaching and Learning\\n\\nTeachers and students have never had as much access to educational resources as they do today. With technology at the driving seat of today\\u2019s education sector, teachers are tasked with determining which solutions will maximize learning outcomes.\\n\\nFrom video conferencing tools and learning management systems to more novel solutions like virtual reality and artificial intelligence (AI), the choices are endless. [...] On the parent front, these tools provide a platform for regular updates on student progress, direct messaging capabilities with educators, and access to upcoming school events and homework assignments\\u00a0\\u2014 keeping parents engaged and informed about their child\\u2019s educational journey.\\n\\n7. Digital feedback tools [...] From the graphic design capabilities of Canva to the video creation solutions of Adobe Premiere Pro, these platforms empower educators to create professional-quality educational content that can engage and inspire students. Such tools are invaluable for crafting visual aids, instructional videos, and interactive media that enhance the learning experience.\",\n",
      "            \"score\": 0.73459625,\n",
      "            \"raw_content\": null\n",
      "          },\n",
      "          {\n",
      "            \"url\": \"https://toptools4learning.com/\",\n",
      "            \"title\": \"Top 100 Tools for Learning 2024 \\u2013 Results of the 18th Annual ...\",\n",
      "            \"content\": \"up 7 | 80 | Nearpod | educational tool for interactive presentations\\nBACK | 81 | Feedly | RSS/news reader\\nBACK | 82 | Khan Academy | online course library\\ndown 28 | 83 | Whereby | video meeting platform\\nBACK | 84 | Firefox | web browser\\ndown 45 | 85 | Quizizz | educational games and testing tool\\ndown 17 | 86 | Prezi | online presentation tool\\nBACK | 87 | Raindrop | bookmark manager\\nBACK | 88 | Descript | audio and video editing tool [...] up 23 | 28 | Masterclass | streaming platform for video lessons\\ndown 6 | 29 | Outlook | email client\\nup 2 | 30 | TED Talks | inspirational videos\\nup 3 | 31 | Duolingo | language learning app\\nup 12 | 32 | Quizlet | educational games and testing tool\\nup 6 | 33 | Moodle | open source learning platform\\ndown 15 | 34 | Vimeo | video hosting and sharing platform\\ndown 20 | 35 | Google Classroom | educational learning platform\\nup 6 | 36 | hihaho | interactive video tool [...] BACK | 72 | Confluence | team collaboration software\\ndown 8 | 73 | Kindle Reader\\u00a0App | Amazon\\u2019s e-book reader\\ndown 4 | 74 | Genially | platform for interactive animated content\\nup 20 | 75 | Synthesia | AI video generation platform\\nup 8 | 76 | Edpuzzle | create interactive videos\\nup 17 | 77 | Loom | screen recording tool\\nBACK | 78 | Socrative | student response tool for live engagement\\nsame | 79 | Canvas | educational course management system\",\n",
      "            \"score\": 0.64826655,\n",
      "            \"raw_content\": null\n",
      "          },\n",
      "          {\n",
      "            \"url\": \"https://edu.google.com/intl/ALL_us/\",\n",
      "            \"title\": \"Google for Education - Online Resources for Teachers & Students\",\n",
      "            \"content\": \"Get diverse tools in the hands of students and educators with minimal effort. Maintain all of your institution\\u00e2\\u0080\\u0099s tech from one place. Monitor info-sec, control access, and quickly make changes across your network using the centralized admin console.\\n\\nEducators\\n\\nSave time and enrich student learning with easy-to-use tools [...] Google for Education tools work together to transform teaching and learning so every student and educator can pursue their personal potential.\\n\\nBiomes of the World\\n\\nEducation for today and beyond\\n\\nGoogle is always testing, iterating, and rolling out new upgrades to make our products better and easier to use. Explore the latest from Google for Education.\\n\\nCollaborate with Google Workspace for Education [...] Bring flexible innovation to your school at scale\\n\\nSpend less time on administrative tasks and more time making an impact on student education. Equip your teachers with tools, resources, and professional development so they can focus on their students.\\n\\nIT Admins\\n\\nEasily deploy educational tools across your institution\",\n",
      "            \"score\": 0.5809471,\n",
      "            \"raw_content\": null\n",
      "          },\n",
      "          {\n",
      "            \"url\": \"https://www.discoveryeducation.com/\",\n",
      "            \"title\": \"Discovery Education: Education Platform & Learning Resources for ...\",\n",
      "            \"content\": \"Our engaging, effective, and easy-to-use education platform helps every school district accelerate student growth, scale teacher impact, and motivate learning every day. Industry-leading educational content, digital-first curriculum, personalized learning programs, and time-saving instructional tools enhance teaching and learning across core subjects.\",\n",
      "            \"score\": 0.52144736,\n",
      "            \"raw_content\": null\n",
      "          }\n",
      "        ],\n",
      "        \"response_time\": 4.66\n",
      "      },\n",
      "      \"status\": \"success\"\n",
      "    },\n",
      "    {\n",
      "      \"content\": \"There are many tools available for education, including:\\n\\n* Educational Tools (EduTools) - an educational portal that centralizes digital resources and applications to support teaching and learning\\n* Nearpod - an educational tool for interactive presentations\\n* Khan Academy - an online course library\\n* Whereby - a video meeting platform\\n* Firefox - a web browser\\n* Quizizz - an educational games and testing tool\\n* Prezi - an online presentation tool\\n* Raindrop - a bookmark manager\\n* Descript - an audio and video editing tool\\n* Masterclass - a streaming platform for video lessons\\n* Outlook - an email client\\n* TED Talks - inspirational videos\\n* Duolingo - a language learning app\\n* Quizlet - an educational games and testing tool\\n* Moodle - an open-source learning platform\\n* Vimeo - a video hosting and sharing platform\\n* Google Classroom - an educational learning platform\\n* hihaho - an interactive video tool\\n* Confluence - a team collaboration software\\n* Kindle Reader App - Amazon's e-book reader\\n* Genially - a platform for interactive animated content\\n* Synthesia - an AI video generation platform\\n* Edpuzzle - a tool for creating interactive videos\\n* Loom - a screen recording tool\\n* Socrative - a student response tool for live engagement\\n* Canvas - an educational course management system\\n\\nThese tools can be used to support teaching and learning, and can help educators create engaging and interactive content for their students.\",\n",
      "      \"additional_kwargs\": {},\n",
      "      \"response_metadata\": {\n",
      "        \"role\": \"assistant\",\n",
      "        \"content\": \"There are many tools available for education, including:\\n\\n* Educational Tools (EduTools) - an educational portal that centralizes digital resources and applications to support teaching and learning\\n* Nearpod - an educational tool for interactive presentations\\n* Khan Academy - an online course library\\n* Whereby - a video meeting platform\\n* Firefox - a web browser\\n* Quizizz - an educational games and testing tool\\n* Prezi - an online presentation tool\\n* Raindrop - a bookmark manager\\n* Descript - an audio and video editing tool\\n* Masterclass - a streaming platform for video lessons\\n* Outlook - an email client\\n* TED Talks - inspirational videos\\n* Duolingo - a language learning app\\n* Quizlet - an educational games and testing tool\\n* Moodle - an open-source learning platform\\n* Vimeo - a video hosting and sharing platform\\n* Google Classroom - an educational learning platform\\n* hihaho - an interactive video tool\\n* Confluence - a team collaboration software\\n* Kindle Reader App - Amazon's e-book reader\\n* Genially - a platform for interactive animated content\\n* Synthesia - an AI video generation platform\\n* Edpuzzle - a tool for creating interactive videos\\n* Loom - a screen recording tool\\n* Socrative - a student response tool for live engagement\\n* Canvas - an educational course management system\\n\\nThese tools can be used to support teaching and learning, and can help educators create engaging and interactive content for their students.\",\n",
      "        \"token_usage\": {\n",
      "          \"prompt_tokens\": 1330,\n",
      "          \"total_tokens\": 1633,\n",
      "          \"completion_tokens\": 303\n",
      "        },\n",
      "        \"finish_reason\": \"stop\",\n",
      "        \"model_name\": \"nvdev/meta/llama-3.1-70b-instruct\"\n",
      "      },\n",
      "      \"type\": \"ai\",\n",
      "      \"name\": null,\n",
      "      \"id\": \"run-206f2a54-15ff-4a3a-9c69-00357adc5bc3-0\",\n",
      "      \"example\": false,\n",
      "      \"tool_calls\": [],\n",
      "      \"invalid_tool_calls\": [],\n",
      "      \"usage_metadata\": {\n",
      "        \"input_tokens\": 1330,\n",
      "        \"output_tokens\": 303,\n",
      "        \"total_tokens\": 1633\n",
      "      },\n",
      "      \"role\": \"assistant\"\n",
      "    }\n",
      "  ]\n",
      "}\n"
     ]
    },
    {
     "name": "stderr",
     "output_type": "stream",
     "text": [
      "/tmp/ipykernel_36189/914072350.py:6: PydanticDeprecatedSince20: The `dict` method is deprecated; use `model_dump` instead. Deprecated in Pydantic V2.0 to be removed in V3.0. See Pydantic V2 Migration Guide at https://errors.pydantic.dev/2.11/migration/\n",
      "  return obj.dict()\n"
     ]
    }
   ],
   "source": [
    "search = TavilySearchResults(max_results=5, include_images=True)\n",
    "tools = [search]\n",
    "agent = create_react_agent(llm, tools)\n",
    "\n",
    "response = agent.invoke(\n",
    "    {\"messages\": [{\"role\": \"user\", \"content\": \"What are some tools for education?\"}]})\n",
    "\n",
    "print(\"\\n================================== Ai Message ==================================\")\n",
    "print(response[\"messages\"][-1].content)\n",
    "\n",
    "print(json.dumps(response, indent=2, default=custom_serializer))"
   ]
  },
  {
   "cell_type": "markdown",
   "metadata": {
    "id": "K3hJ93eS5Ux5"
   },
   "source": [
    "\n",
    "<summary><strong>What do we observe?</strong></summary>\n",
    "\n",
    "The above shows the following results from the Tavily tool calling, which will give you the top 5 web results (specified 5 in `max_results`).\n",
    "\n",
    "-  `images`: Images from the website links which can be used as thumbnail if required.\n",
    "- `results`: Specific information for each of the 5 web results, such as `url`, `title`, `content` (brief description), `score` (relevancy scoring).\n",
    "- `content`: LLM answer to the query based on the web search results."
   ]
  },
  {
   "cell_type": "markdown",
   "metadata": {
    "id": "km_DIEeJ1DTJ"
   },
   "source": [
    "# 🧠 Third Capability: ReAct Agent with Memory + Tavily\n",
    "\n",
    "Now, we are implementing the ReAct agent with both the Tavily web search tool and conversational memory.\n",
    "\n",
    "This was the previously created `State` (structured Dict)."
   ]
  },
  {
   "cell_type": "code",
   "execution_count": 27,
   "metadata": {
    "id": "C4Eq7xj_1DTJ"
   },
   "outputs": [],
   "source": [
    "class State(TypedDict):\n",
    "    # The \"messages\" key is a list.\n",
    "    # The `add_messages` annotation tells our system to **append** new messages\n",
    "    # to this list instead of replacing the entire list.\n",
    "    messages: Annotated[list, add_messages]"
   ]
  },
  {
   "cell_type": "markdown",
   "metadata": {
    "id": "jID7h5R11DTJ"
   },
   "source": [
    "In order to use create_react_agent, we will need to use an additional `is_last_step` parameter. The is_last_step flag and remaining_steps integer coordinate the decision-making process in a ReAct pipeline—particularly for managing when the Tavily tool calls should cease."
   ]
  },
  {
   "cell_type": "code",
   "execution_count": 28,
   "metadata": {
    "id": "TBfejNRQ1DTJ"
   },
   "outputs": [],
   "source": [
    "class TavilyState(TypedDict):\n",
    "        messages: Annotated[list, add_messages]\n",
    "        is_last_step: str\n",
    "        remaining_steps: int"
   ]
  },
  {
   "cell_type": "code",
   "execution_count": 29,
   "metadata": {
    "id": "_dRohaiN1DTJ"
   },
   "outputs": [],
   "source": [
    "# Creating a new function to print the stream, taking into account the tool calling different printing (unable to do automatic pretty_print)\n",
    "def print_stream(graph, inputs, config):\n",
    "    for s in graph.stream(inputs, config, stream_mode=\"values\"):\n",
    "        message = s[\"messages\"][-1]\n",
    "        if isinstance(message, tuple): # To enable tool calling printing\n",
    "            print(message)\n",
    "        else:\n",
    "            message.pretty_print()"
   ]
  },
  {
   "cell_type": "markdown",
   "metadata": {
    "id": "EYeeU4so1DTJ"
   },
   "source": [
    "Lastly, we are creating the react agent which implements the LangGraph graphing logic previously explored within the function.\n",
    "\n",
    "We do not have to explicitly create our own StateGraph now, it is implemented within the pre-built `create_react_agent` function.\n",
    "\n",
    "This enables us to pass in the memory in the same way as before using `MemorySaver()`.\n",
    "\n",
    "The Tavily tool is also implemented for web search capabilities, creating a ReAct agent with conversational memory + web search capabilities.\n",
    "\n",
    "![flowchart-tavily.png](img/flowchart-tavily.png)"
   ]
  },
  {
   "cell_type": "code",
   "execution_count": 30,
   "metadata": {
    "colab": {
     "base_uri": "https://localhost:8080/"
    },
    "executionInfo": {
     "elapsed": 8,
     "status": "ok",
     "timestamp": 1742261611201,
     "user": {
      "displayName": "Darren Tan SG",
      "userId": "07785499131391784730"
     },
     "user_tz": -480
    },
    "id": "oHmCLixb1DTJ",
    "outputId": "0a49ba0d-c6d9-4c26-d6b2-c3e3bc5894d2"
   },
   "outputs": [
    {
     "name": "stderr",
     "output_type": "stream",
     "text": [
      "/media/darren/hard_disk1/New_Code/ExplorerAI playbook/env_tester/lib/python3.11/site-packages/langchain_nvidia_ai_endpoints/chat_models.py:591: UserWarning: Model 'nvdev/meta/llama-3.1-70b-instruct' is not known to support tools. Your tool binding may fail at inference time.\n",
      "  warnings.warn(\n"
     ]
    }
   ],
   "source": [
    "search = TavilySearchResults(max_results=5, include_images=True)\n",
    "tools = [search]\n",
    "memory_tavily = MemorySaver()\n",
    "\n",
    "graph_with_tavily = create_react_agent(llm, tools, state_schema=TavilyState, checkpointer=memory_tavily)"
   ]
  },
  {
   "cell_type": "code",
   "execution_count": 31,
   "metadata": {
    "id": "QeO6pL2Y5Ux6"
   },
   "outputs": [],
   "source": [
    "thread_id = \"memory_and_tavily\""
   ]
  },
  {
   "cell_type": "code",
   "execution_count": 32,
   "metadata": {
    "id": "6TNP1UgK5Ux6",
    "outputId": "6bc39369-2363-4108-f000-188ec0680c71"
   },
   "outputs": [
    {
     "name": "stdout",
     "output_type": "stream",
     "text": [
      "================================\u001b[1m Human Message \u001b[0m=================================\n",
      "\n",
      "Hi, I'm Will! Nice to meet you. I'm a teacher.\n",
      "==================================\u001b[1m Ai Message \u001b[0m==================================\n",
      "\n",
      "Nice to meet you too, Will! It's great to hear that you're a teacher. What subject do you teach, if I might ask?\n"
     ]
    }
   ],
   "source": [
    "config = {\"configurable\": {\"thread_id\": thread_id}}\n",
    "\n",
    "inputs = {\"messages\": [(\"user\", \"Hi, I'm Will! Nice to meet you. I'm a teacher.\")]}\n",
    "print_stream(graph_with_tavily, inputs, config)"
   ]
  },
  {
   "cell_type": "markdown",
   "metadata": {
    "id": "ChChYAhg1DTJ"
   },
   "source": [
    "The LLM determines whether tool calling is required. It has correctly decided not to call Tavily as web search capabilities are not required.\n",
    "\n",
    "Let's look at what's happening behind the scenes."
   ]
  },
  {
   "cell_type": "code",
   "execution_count": 33,
   "metadata": {
    "id": "Mr_1D-rD5Ux6",
    "outputId": "97d1257c-cf9c-44b2-e9c8-2592137d2775"
   },
   "outputs": [
    {
     "name": "stdout",
     "output_type": "stream",
     "text": [
      "\n",
      "====================== What is happening behind the scenes:======================\n",
      "{\n",
      "  \"v\": 2,\n",
      "  \"ts\": \"2025-04-03T02:32:47.883430+00:00\",\n",
      "  \"id\": \"1f01033e-e79f-6ef7-8001-52862cc5700f\",\n",
      "  \"channel_versions\": {\n",
      "    \"__start__\": \"00000000000000000000000000000002.0.7669557006710066\",\n",
      "    \"messages\": \"00000000000000000000000000000003.0.888278718332531\",\n",
      "    \"branch:to:agent\": \"00000000000000000000000000000003.0.46424795073716696\"\n",
      "  },\n",
      "  \"versions_seen\": {\n",
      "    \"__input__\": {},\n",
      "    \"__start__\": {\n",
      "      \"__start__\": \"00000000000000000000000000000001.0.051531410690548896\"\n",
      "    },\n",
      "    \"agent\": {\n",
      "      \"branch:to:agent\": \"00000000000000000000000000000002.0.6675711252743676\"\n",
      "    }\n",
      "  },\n",
      "  \"channel_values\": {\n",
      "    \"messages\": [\n",
      "      {\n",
      "        \"content\": \"Hi, I'm Will! Nice to meet you. I'm a teacher.\",\n",
      "        \"additional_kwargs\": {},\n",
      "        \"response_metadata\": {},\n",
      "        \"type\": \"human\",\n",
      "        \"name\": null,\n",
      "        \"id\": \"259ba26d-86a6-4ea7-8a1c-971f49925c74\",\n",
      "        \"example\": false\n",
      "      },\n",
      "      {\n",
      "        \"content\": \"Nice to meet you too, Will! It's great to hear that you're a teacher. What subject do you teach, if I might ask?\",\n",
      "        \"additional_kwargs\": {},\n",
      "        \"response_metadata\": {\n",
      "          \"role\": \"assistant\",\n",
      "          \"content\": \"Nice to meet you too, Will! It's great to hear that you're a teacher. What subject do you teach, if I might ask?\",\n",
      "          \"token_usage\": {\n",
      "            \"prompt_tokens\": 323,\n",
      "            \"total_tokens\": 353,\n",
      "            \"completion_tokens\": 30\n",
      "          },\n",
      "          \"finish_reason\": \"stop\",\n",
      "          \"model_name\": \"nvdev/meta/llama-3.1-70b-instruct\"\n",
      "        },\n",
      "        \"type\": \"ai\",\n",
      "        \"name\": null,\n",
      "        \"id\": \"run-3aadf023-3c01-4479-a0b3-ac89c203ef55-0\",\n",
      "        \"example\": false,\n",
      "        \"tool_calls\": [],\n",
      "        \"invalid_tool_calls\": [],\n",
      "        \"usage_metadata\": {\n",
      "          \"input_tokens\": 323,\n",
      "          \"output_tokens\": 30,\n",
      "          \"total_tokens\": 353\n",
      "        },\n",
      "        \"role\": \"assistant\"\n",
      "      }\n",
      "    ]\n",
      "  },\n",
      "  \"pending_sends\": []\n",
      "}\n"
     ]
    },
    {
     "name": "stderr",
     "output_type": "stream",
     "text": [
      "/tmp/ipykernel_36189/914072350.py:6: PydanticDeprecatedSince20: The `dict` method is deprecated; use `model_dump` instead. Deprecated in Pydantic V2.0 to be removed in V3.0. See Pydantic V2 Migration Guide at https://errors.pydantic.dev/2.11/migration/\n",
      "  return obj.dict()\n"
     ]
    }
   ],
   "source": [
    "print(\"\\n====================== What is happening behind the scenes:======================\")\n",
    "print(json.dumps(memory_tavily.get(config), indent=2, default=custom_serializer))"
   ]
  },
  {
   "cell_type": "markdown",
   "metadata": {
    "id": "1mQRp9mS5Ux6"
   },
   "source": [
    "<summary><strong>What do we observe?</strong></summary>\n",
    "\n",
    "In the second element of `messages` (the AI message), you can observe `\"tool_calls\": []`. This correctly shows no tools were called in this run."
   ]
  },
  {
   "cell_type": "markdown",
   "metadata": {
    "id": "QsUx6o4l1DTJ"
   },
   "source": [
    "Let's now test the conversational memory property. Will the LLM be able to remember the user's job without the user mentioning it a second time? And, will it also be able to search for relevant web articles using Tavily?"
   ]
  },
  {
   "cell_type": "code",
   "execution_count": 34,
   "metadata": {
    "id": "EA-uADDo5Ux6",
    "outputId": "b88d6c7c-2dbd-4202-8a26-3c9581723354"
   },
   "outputs": [
    {
     "name": "stdout",
     "output_type": "stream",
     "text": [
      "================================\u001b[1m Human Message \u001b[0m=================================\n",
      "\n",
      "Can you give me some articles on how AI can help me with my job?\n",
      "==================================\u001b[1m Ai Message \u001b[0m==================================\n",
      "Tool Calls:\n",
      "  tavily_search_results_json (chatcmpl-tool-bc0329c0564a4353bbf6af153c1eb691)\n",
      " Call ID: chatcmpl-tool-bc0329c0564a4353bbf6af153c1eb691\n",
      "  Args:\n",
      "    query: AI for teachers\n",
      "=================================\u001b[1m Tool Message \u001b[0m=================================\n",
      "Name: tavily_search_results_json\n",
      "\n",
      "[{\"url\": \"https://www.edutopia.org/article/7-ai-tools-that-help-teachers-work-more-efficiently/\", \"content\": \"3. Curipod: This website enables teachers to create interactive lessons in minutes using AI. Students can explore various topics, and the AI functionality helps generate customized lessons tailored to their learning needs. Teachers simply type in a topic, and a ready-to-run lesson is generated with text, images, and activities such as polls, open-ended responses, word clouds, and more. There are even activities to build in that focus on SEL check-ins. [...] Creating and supplementing content: Through AI-powered platforms, teachers can curate a range of educational resources. With generative AI in particular, teachers are able to create lessons, activities, assessments, prompts for discussion, and presentations simply by providing a short prompt with keywords.\\n7 education Tools that work [...] Personalized learning: Educators can provide tailored learning experiences based on AI-driven analytics that provide valuable insights into student performance and learning trends. Using this data, AI can instantly adapt student learning materials. Teachers can then use this information to provide personalized learning experiences, adapting to each student’s strengths, weaknesses, and learning pace.\"}, {\"url\": \"https://www.magicschool.ai/\", \"content\": \"The most comprehensive AI tool list for teachers\\nIn just minutes, you can generate standards-aligned lesson plans, academic content, assessments, individualized IEPs, professional student/parent communication, and more.\\nExplore MagicSchool\\n\\nAI tools for students, monitored by teachers\\nProvide personalized student support, tutoring, feedback, chat bots, and image generation ­— all customizable to meet the needs of your students.\\nExplore MagicStudent [...] Save 7-10 hours a week\\nThe leading AI platform for schools\\nYour \\\"one stop shop\\\" for AI in education: Teachers of all subjects and grade levels can curate a dashboard of useful, continually-updated AI tools, all in one place.\\nSave time and fight teacher burnout: Lighten your load with the help of MagicSchool's AI  teaching assistant so you can shine where it matters the most — with your students! [...] Loved     by over 4 million educators and their students\\nThe award-winning, most used, and most loved AI platform for schools in the world. Educators use MagicSchool to help lesson plan, differentiate, write assessments, write IEPs, communicate clearly, and more. And now use MagicSchool for Students to drive student outcomes and build AI literacy with responsible AI experiences built and monitored by teachers.\\nSee the wall of love\"}, {\"url\": \"https://www.eduaide.ai/\", \"content\": \"What is Eduaide?\\nEduaide.Ai is an AI-powered teaching workspace that helps educators create, adapt, and refine their instructional materials. Built by teachers for teachers, we embrace the best of AI while keeping your expertise at the center—because we believe technology should amplify, not replace, great teaching. [...] Empowers Teacher Excellence\\nWith AI taking care of routine tasks, you're free to focus on what you do best - executing engaging, innovative lessons that inspire and captivate your students.\\nWhat Eduaide.Ai Users Are Saying\\nLearn what Eduaide educators have to say about how Eduaide.Ai has transformed the way they work. [...] Jessica Reid\\n8th Grade Teacher\\nEduaide.Ai has provided a simplified way to plan lessons. I had the pleasure to meet the owners and the fact that this resource is made for teachers by teachers just shows the passion that these educators have for our children's future\"}, {\"url\": \"https://libguides.lib.siu.edu/ai-for-teachers\", \"content\": \"We show how AI can help instructors create material that supports these strategies and improve student learning. The strategies include\"}, {\"url\": \"https://www.aiforteachers.ai/\", \"content\": \"AI for Teachers: Free AI tools for lesson planning, grading & more. Simplify tasks & improve education outcomes with thousands of easy-to-use AI for\"}]\n",
      "==================================\u001b[1m Ai Message \u001b[0m==================================\n",
      "\n",
      "Here are some articles on how AI can help you with your job as a teacher:\n",
      "\n",
      "1. \"7 AI Tools that Help Teachers Work More Efficiently\" by Edutopia - This article discusses how AI can help teachers with tasks such as creating interactive lessons, generating customized lessons, and providing personalized learning experiences.\n",
      "2. \"MagicSchool\" by MagicSchool - This website provides a comprehensive list of AI tools for teachers, including tools for generating lesson plans, academic content, assessments, and individualized IEPs.\n",
      "3. \"Eduaide\" by Eduaide - This AI-powered teaching workspace helps educators create, adapt, and refine their instructional materials, and provides tools for tasks such as lesson planning and grading.\n",
      "4. \"AI for Teachers\" by AI for Teachers - This website provides free AI tools for teachers, including tools for lesson planning, grading, and more.\n",
      "\n",
      "These articles and resources provide a range of ways that AI can help teachers with their jobs, from creating interactive lessons to providing personalized learning experiences.\n"
     ]
    }
   ],
   "source": [
    "inputs = {\"messages\": [(\"user\", \"Can you give me some articles on how AI can help me with my job?\")]}\n",
    "print_stream(graph_with_tavily, inputs, config)"
   ]
  },
  {
   "cell_type": "markdown",
   "metadata": {
    "id": "aNQ7JefY5Ux6"
   },
   "source": [
    "Great! From Tool Message, you can see that the Tavily tool is called and it returns some web results.\n",
    "\n",
    "Let's take a closer look."
   ]
  },
  {
   "cell_type": "code",
   "execution_count": 35,
   "metadata": {
    "id": "H6x4rZc25Ux7",
    "outputId": "3d0201af-e71c-4a4b-ab6f-35a987503da7"
   },
   "outputs": [
    {
     "name": "stdout",
     "output_type": "stream",
     "text": [
      "\n",
      "====================== What is happening behind the scenes:======================\n",
      "{\n",
      "  \"v\": 2,\n",
      "  \"ts\": \"2025-04-03T02:36:20.572004+00:00\",\n",
      "  \"id\": \"1f010346-d3fb-626b-8006-dfcf43174c87\",\n",
      "  \"channel_versions\": {\n",
      "    \"__start__\": \"00000000000000000000000000000005.0.8303402870198249\",\n",
      "    \"messages\": \"00000000000000000000000000000008.0.5708855467855228\",\n",
      "    \"branch:to:agent\": \"00000000000000000000000000000008.0.8543613285385991\",\n",
      "    \"branch:to:tools\": \"00000000000000000000000000000007.0.5485004915911461\"\n",
      "  },\n",
      "  \"versions_seen\": {\n",
      "    \"__input__\": {},\n",
      "    \"__start__\": {\n",
      "      \"__start__\": \"00000000000000000000000000000004.0.3454054084368915\"\n",
      "    },\n",
      "    \"agent\": {\n",
      "      \"branch:to:agent\": \"00000000000000000000000000000007.0.6489881635693262\"\n",
      "    },\n",
      "    \"tools\": {\n",
      "      \"branch:to:tools\": \"00000000000000000000000000000006.0.03604392489012587\"\n",
      "    }\n",
      "  },\n",
      "  \"channel_values\": {\n",
      "    \"messages\": [\n",
      "      {\n",
      "        \"content\": \"Hi, I'm Will! Nice to meet you. I'm a teacher.\",\n",
      "        \"additional_kwargs\": {},\n",
      "        \"response_metadata\": {},\n",
      "        \"type\": \"human\",\n",
      "        \"name\": null,\n",
      "        \"id\": \"259ba26d-86a6-4ea7-8a1c-971f49925c74\",\n",
      "        \"example\": false\n",
      "      },\n",
      "      {\n",
      "        \"content\": \"Nice to meet you too, Will! It's great to hear that you're a teacher. What subject do you teach, if I might ask?\",\n",
      "        \"additional_kwargs\": {},\n",
      "        \"response_metadata\": {\n",
      "          \"role\": \"assistant\",\n",
      "          \"content\": \"Nice to meet you too, Will! It's great to hear that you're a teacher. What subject do you teach, if I might ask?\",\n",
      "          \"token_usage\": {\n",
      "            \"prompt_tokens\": 323,\n",
      "            \"total_tokens\": 353,\n",
      "            \"completion_tokens\": 30\n",
      "          },\n",
      "          \"finish_reason\": \"stop\",\n",
      "          \"model_name\": \"nvdev/meta/llama-3.1-70b-instruct\"\n",
      "        },\n",
      "        \"type\": \"ai\",\n",
      "        \"name\": null,\n",
      "        \"id\": \"run-3aadf023-3c01-4479-a0b3-ac89c203ef55-0\",\n",
      "        \"example\": false,\n",
      "        \"tool_calls\": [],\n",
      "        \"invalid_tool_calls\": [],\n",
      "        \"usage_metadata\": {\n",
      "          \"input_tokens\": 323,\n",
      "          \"output_tokens\": 30,\n",
      "          \"total_tokens\": 353\n",
      "        },\n",
      "        \"role\": \"assistant\"\n",
      "      },\n",
      "      {\n",
      "        \"content\": \"Can you give me some articles on how AI can help me with my job?\",\n",
      "        \"additional_kwargs\": {},\n",
      "        \"response_metadata\": {},\n",
      "        \"type\": \"human\",\n",
      "        \"name\": null,\n",
      "        \"id\": \"901fc212-4b98-4906-924d-671935cf1c91\",\n",
      "        \"example\": false\n",
      "      },\n",
      "      {\n",
      "        \"content\": \"\",\n",
      "        \"additional_kwargs\": {\n",
      "          \"tool_calls\": [\n",
      "            {\n",
      "              \"id\": \"chatcmpl-tool-bc0329c0564a4353bbf6af153c1eb691\",\n",
      "              \"type\": \"function\",\n",
      "              \"function\": {\n",
      "                \"name\": \"tavily_search_results_json\",\n",
      "                \"arguments\": \"{\\\"query\\\": \\\"AI for teachers\\\"}\"\n",
      "              }\n",
      "            }\n",
      "          ]\n",
      "        },\n",
      "        \"response_metadata\": {\n",
      "          \"role\": \"assistant\",\n",
      "          \"content\": null,\n",
      "          \"tool_calls\": [\n",
      "            {\n",
      "              \"id\": \"chatcmpl-tool-bc0329c0564a4353bbf6af153c1eb691\",\n",
      "              \"type\": \"function\",\n",
      "              \"function\": {\n",
      "                \"name\": \"tavily_search_results_json\",\n",
      "                \"arguments\": \"{\\\"query\\\": \\\"AI for teachers\\\"}\"\n",
      "              }\n",
      "            }\n",
      "          ],\n",
      "          \"token_usage\": {\n",
      "            \"prompt_tokens\": 379,\n",
      "            \"total_tokens\": 395,\n",
      "            \"completion_tokens\": 16\n",
      "          },\n",
      "          \"finish_reason\": \"tool_calls\",\n",
      "          \"model_name\": \"nvdev/meta/llama-3.1-70b-instruct\"\n",
      "        },\n",
      "        \"type\": \"ai\",\n",
      "        \"name\": null,\n",
      "        \"id\": \"run-dc1c2a48-5690-49f5-83e7-ad7b2d9c2251-0\",\n",
      "        \"example\": false,\n",
      "        \"tool_calls\": [\n",
      "          {\n",
      "            \"name\": \"tavily_search_results_json\",\n",
      "            \"args\": {\n",
      "              \"query\": \"AI for teachers\"\n",
      "            },\n",
      "            \"id\": \"chatcmpl-tool-bc0329c0564a4353bbf6af153c1eb691\",\n",
      "            \"type\": \"tool_call\"\n",
      "          }\n",
      "        ],\n",
      "        \"invalid_tool_calls\": [],\n",
      "        \"usage_metadata\": {\n",
      "          \"input_tokens\": 379,\n",
      "          \"output_tokens\": 16,\n",
      "          \"total_tokens\": 395\n",
      "        },\n",
      "        \"role\": \"assistant\"\n",
      "      },\n",
      "      {\n",
      "        \"content\": \"[{\\\"url\\\": \\\"https://www.edutopia.org/article/7-ai-tools-that-help-teachers-work-more-efficiently/\\\", \\\"content\\\": \\\"3. Curipod: This website enables teachers to create interactive lessons in minutes using AI. Students can explore various topics, and the AI functionality helps generate customized lessons tailored to their learning needs. Teachers simply type in a topic, and a ready-to-run lesson is generated with text, images, and activities such as polls, open-ended responses, word clouds, and more. There are even activities to build in that focus on SEL check-ins. [...] Creating and supplementing content: Through AI-powered platforms, teachers can curate a range of educational resources. With generative AI in particular, teachers are able to create lessons, activities, assessments, prompts for discussion, and presentations simply by providing a short prompt with keywords.\\\\n7 education Tools that work [...] Personalized learning: Educators can provide tailored learning experiences based on AI-driven analytics that provide valuable insights into student performance and learning trends. Using this data, AI can instantly adapt student learning materials. Teachers can then use this information to provide personalized learning experiences, adapting to each student\\u2019s strengths, weaknesses, and learning pace.\\\"}, {\\\"url\\\": \\\"https://www.magicschool.ai/\\\", \\\"content\\\": \\\"The most comprehensive AI tool list for teachers\\\\nIn just minutes, you can generate standards-aligned lesson plans, academic content, assessments, individualized IEPs, professional student/parent communication, and more.\\\\nExplore MagicSchool\\\\n\\\\nAI tools for students, monitored by teachers\\\\nProvide personalized student support, tutoring, feedback, chat bots, and image generation \\u00ad\\u2014 all customizable to meet the needs of your students.\\\\nExplore MagicStudent [...] Save 7-10 hours a week\\\\nThe leading AI platform for schools\\\\nYour \\\\\\\"one stop shop\\\\\\\" for AI in education: Teachers of all subjects and grade levels can curate a dashboard of useful, continually-updated AI tools, all in one place.\\\\nSave time and fight teacher burnout: Lighten your load with the help of MagicSchool's AI \\u00a0teaching assistant so you can shine where it matters the most \\u2014 with your students! [...] Loved \\u00a0 \\u00a0 by over 4 million educators and their students\\\\nThe award-winning, most used, and most loved AI\\u00a0platform for schools in the world. Educators use MagicSchool to help lesson plan, differentiate, write assessments, write IEPs, communicate clearly, and more. And now use MagicSchool for Students to drive student outcomes and build AI\\u00a0literacy with responsible AI\\u00a0experiences built and monitored by teachers.\\\\nSee the wall of love\\\"}, {\\\"url\\\": \\\"https://www.eduaide.ai/\\\", \\\"content\\\": \\\"What is Eduaide?\\\\nEduaide.Ai is an AI-powered teaching workspace that helps educators create, adapt, and refine their instructional materials. Built by teachers for teachers, we embrace the best of AI while keeping your expertise at the center\\u2014because we believe technology should amplify, not replace, great teaching. [...] Empowers Teacher Excellence\\\\nWith AI taking care of routine tasks, you're free to focus on what you do best - executing engaging, innovative lessons that inspire and captivate your students.\\\\nWhat Eduaide.Ai Users Are Saying\\\\nLearn what Eduaide educators have to say about how Eduaide.Ai has transformed the way they work. [...] Jessica Reid\\\\n8th Grade Teacher\\\\nEduaide.Ai has provided a simplified way to plan lessons. I had the pleasure to meet the owners and the fact that this resource is made for teachers by teachers just shows the passion that these educators have for our children's future\\\"}, {\\\"url\\\": \\\"https://libguides.lib.siu.edu/ai-for-teachers\\\", \\\"content\\\": \\\"We show how AI can help instructors create material that supports these strategies and improve student learning. The strategies include\\\"}, {\\\"url\\\": \\\"https://www.aiforteachers.ai/\\\", \\\"content\\\": \\\"AI for Teachers: Free AI tools for lesson planning, grading & more. Simplify tasks & improve education outcomes with thousands of easy-to-use AI for\\\"}]\",\n",
      "        \"additional_kwargs\": {},\n",
      "        \"response_metadata\": {},\n",
      "        \"type\": \"tool\",\n",
      "        \"name\": \"tavily_search_results_json\",\n",
      "        \"id\": \"24ac256e-593a-4991-a631-3d5d93692dd5\",\n",
      "        \"tool_call_id\": \"chatcmpl-tool-bc0329c0564a4353bbf6af153c1eb691\",\n",
      "        \"artifact\": {\n",
      "          \"query\": \"AI for teachers\",\n",
      "          \"follow_up_questions\": null,\n",
      "          \"answer\": null,\n",
      "          \"images\": [\n",
      "            \"https://assets-global.website-files.com/645a5c190d742621796eedd1/657c63384f4072caa91eae26_teacher-using-ai-in-class.jpg\",\n",
      "            \"https://cdn.sendsteps.com/website/Top_10_AI_presentation_tools_for_teachers_3f4e38d159.png\",\n",
      "            \"https://ditchthattextbook.com/wp-content/uploads/2023/05/30-ai-tools-infographic.png\",\n",
      "            \"https://i.ytimg.com/vi/KG4_CYbVpTo/maxresdefault.jpg\",\n",
      "            \"https://lifeboat.com/blog.images/a-teacher-allows-ai-tools-in-exams-heres-what-he-learned2.jpg\"\n",
      "          ],\n",
      "          \"results\": [\n",
      "            {\n",
      "              \"url\": \"https://www.edutopia.org/article/7-ai-tools-that-help-teachers-work-more-efficiently/\",\n",
      "              \"title\": \"7 AI Tools That Help Teachers Work More Efficiently - Edutopia\",\n",
      "              \"content\": \"3. Curipod: This website enables teachers to create interactive lessons in minutes using AI. Students can explore various topics, and the AI functionality helps generate customized lessons tailored to their learning needs. Teachers simply type in a topic, and a ready-to-run lesson is generated with text, images, and activities such as polls, open-ended responses, word clouds, and more. There are even activities to build in that focus on SEL check-ins. [...] Creating and supplementing content: Through AI-powered platforms, teachers can curate a range of educational resources. With generative AI in particular, teachers are able to create lessons, activities, assessments, prompts for discussion, and presentations simply by providing a short prompt with keywords.\\n7 education Tools that work [...] Personalized learning: Educators can provide tailored learning experiences based on AI-driven analytics that provide valuable insights into student performance and learning trends. Using this data, AI can instantly adapt student learning materials. Teachers can then use this information to provide personalized learning experiences, adapting to each student\\u2019s strengths, weaknesses, and learning pace.\",\n",
      "              \"score\": 0.8591094,\n",
      "              \"raw_content\": null\n",
      "            },\n",
      "            {\n",
      "              \"url\": \"https://www.magicschool.ai/\",\n",
      "              \"title\": \"AI for Educators | MagicSchool\",\n",
      "              \"content\": \"The most comprehensive AI tool list for teachers\\nIn just minutes, you can generate standards-aligned lesson plans, academic content, assessments, individualized IEPs, professional student/parent communication, and more.\\nExplore MagicSchool\\n\\nAI tools for students, monitored by teachers\\nProvide personalized student support, tutoring, feedback, chat bots, and image generation \\u00ad\\u2014 all customizable to meet the needs of your students.\\nExplore MagicStudent [...] Save 7-10 hours a week\\nThe leading AI platform for schools\\nYour \\\"one stop shop\\\" for AI in education: Teachers of all subjects and grade levels can curate a dashboard of useful, continually-updated AI tools, all in one place.\\nSave time and fight teacher burnout: Lighten your load with the help of MagicSchool's AI \\u00a0teaching assistant so you can shine where it matters the most \\u2014 with your students! [...] Loved \\u00a0 \\u00a0 by over 4 million educators and their students\\nThe award-winning, most used, and most loved AI\\u00a0platform for schools in the world. Educators use MagicSchool to help lesson plan, differentiate, write assessments, write IEPs, communicate clearly, and more. And now use MagicSchool for Students to drive student outcomes and build AI\\u00a0literacy with responsible AI\\u00a0experiences built and monitored by teachers.\\nSee the wall of love\",\n",
      "              \"score\": 0.82761955,\n",
      "              \"raw_content\": null\n",
      "            },\n",
      "            {\n",
      "              \"url\": \"https://www.eduaide.ai/\",\n",
      "              \"title\": \"Eduaide.Ai: AI Created for Teachers\",\n",
      "              \"content\": \"What is Eduaide?\\nEduaide.Ai is an AI-powered teaching workspace that helps educators create, adapt, and refine their instructional materials. Built by teachers for teachers, we embrace the best of AI while keeping your expertise at the center\\u2014because we believe technology should amplify, not replace, great teaching. [...] Empowers Teacher Excellence\\nWith AI taking care of routine tasks, you're free to focus on what you do best - executing engaging, innovative lessons that inspire and captivate your students.\\nWhat Eduaide.Ai Users Are Saying\\nLearn what Eduaide educators have to say about how Eduaide.Ai has transformed the way they work. [...] Jessica Reid\\n8th Grade Teacher\\nEduaide.Ai has provided a simplified way to plan lessons. I had the pleasure to meet the owners and the fact that this resource is made for teachers by teachers just shows the passion that these educators have for our children's future\",\n",
      "              \"score\": 0.81630427,\n",
      "              \"raw_content\": null\n",
      "            },\n",
      "            {\n",
      "              \"url\": \"https://libguides.lib.siu.edu/ai-for-teachers\",\n",
      "              \"title\": \"Generative AI for Teachers: Resources\",\n",
      "              \"content\": \"We show how AI can help instructors create material that supports these strategies and improve student learning. The strategies include\",\n",
      "              \"score\": 0.75831425,\n",
      "              \"raw_content\": null\n",
      "            },\n",
      "            {\n",
      "              \"url\": \"https://www.aiforteachers.ai/\",\n",
      "              \"title\": \"AI For Teachers | Free AI for Teachers\",\n",
      "              \"content\": \"AI for Teachers: Free AI tools for lesson planning, grading & more. Simplify tasks & improve education outcomes with thousands of easy-to-use AI for\",\n",
      "              \"score\": 0.75616,\n",
      "              \"raw_content\": null\n",
      "            }\n",
      "          ],\n",
      "          \"response_time\": 2.83\n",
      "        },\n",
      "        \"status\": \"success\"\n",
      "      },\n",
      "      {\n",
      "        \"content\": \"Here are some articles on how AI can help you with your job as a teacher:\\n\\n1. \\\"7 AI Tools that Help Teachers Work More Efficiently\\\" by Edutopia - This article discusses how AI can help teachers with tasks such as creating interactive lessons, generating customized lessons, and providing personalized learning experiences.\\n2. \\\"MagicSchool\\\" by MagicSchool - This website provides a comprehensive list of AI tools for teachers, including tools for generating lesson plans, academic content, assessments, and individualized IEPs.\\n3. \\\"Eduaide\\\" by Eduaide - This AI-powered teaching workspace helps educators create, adapt, and refine their instructional materials, and provides tools for tasks such as lesson planning and grading.\\n4. \\\"AI for Teachers\\\" by AI for Teachers - This website provides free AI tools for teachers, including tools for lesson planning, grading, and more.\\n\\nThese articles and resources provide a range of ways that AI can help teachers with their jobs, from creating interactive lessons to providing personalized learning experiences.\",\n",
      "        \"additional_kwargs\": {},\n",
      "        \"response_metadata\": {\n",
      "          \"role\": \"assistant\",\n",
      "          \"content\": \"Here are some articles on how AI can help you with your job as a teacher:\\n\\n1. \\\"7 AI Tools that Help Teachers Work More Efficiently\\\" by Edutopia - This article discusses how AI can help teachers with tasks such as creating interactive lessons, generating customized lessons, and providing personalized learning experiences.\\n2. \\\"MagicSchool\\\" by MagicSchool - This website provides a comprehensive list of AI tools for teachers, including tools for generating lesson plans, academic content, assessments, and individualized IEPs.\\n3. \\\"Eduaide\\\" by Eduaide - This AI-powered teaching workspace helps educators create, adapt, and refine their instructional materials, and provides tools for tasks such as lesson planning and grading.\\n4. \\\"AI for Teachers\\\" by AI for Teachers - This website provides free AI tools for teachers, including tools for lesson planning, grading, and more.\\n\\nThese articles and resources provide a range of ways that AI can help teachers with their jobs, from creating interactive lessons to providing personalized learning experiences.\",\n",
      "          \"token_usage\": {\n",
      "            \"prompt_tokens\": 1296,\n",
      "            \"total_tokens\": 1501,\n",
      "            \"completion_tokens\": 205\n",
      "          },\n",
      "          \"finish_reason\": \"stop\",\n",
      "          \"model_name\": \"nvdev/meta/llama-3.1-70b-instruct\"\n",
      "        },\n",
      "        \"type\": \"ai\",\n",
      "        \"name\": null,\n",
      "        \"id\": \"run-ccd63159-62c6-4b39-be4c-fc3e4f931b07-0\",\n",
      "        \"example\": false,\n",
      "        \"tool_calls\": [],\n",
      "        \"invalid_tool_calls\": [],\n",
      "        \"usage_metadata\": {\n",
      "          \"input_tokens\": 1296,\n",
      "          \"output_tokens\": 205,\n",
      "          \"total_tokens\": 1501\n",
      "        },\n",
      "        \"role\": \"assistant\"\n",
      "      }\n",
      "    ]\n",
      "  },\n",
      "  \"pending_sends\": []\n",
      "}\n"
     ]
    },
    {
     "name": "stderr",
     "output_type": "stream",
     "text": [
      "/tmp/ipykernel_36189/914072350.py:6: PydanticDeprecatedSince20: The `dict` method is deprecated; use `model_dump` instead. Deprecated in Pydantic V2.0 to be removed in V3.0. See Pydantic V2 Migration Guide at https://errors.pydantic.dev/2.11/migration/\n",
      "  return obj.dict()\n"
     ]
    }
   ],
   "source": [
    "print(\"\\n====================== What is happening behind the scenes:======================\")\n",
    "print(json.dumps(memory_tavily.get(config), indent=2, default=custom_serializer))"
   ]
  },
  {
   "cell_type": "markdown",
   "metadata": {
    "id": "TrAvDisS1DTK"
   },
   "source": [
    "<summary><strong>What do we observe?</strong></summary>\n",
    "\n",
    "Now, in the same `\"tool_calls\"` parameter we were observing before, you can see that it is not empty. `tavily_search_results_json` specifies the name of the tool that has been called correctly when asked for web articles. The query `AI for teachers` show that there was conversational memory that the user's job was a teacher from the first Human message sent before."
   ]
  },
  {
   "cell_type": "markdown",
   "metadata": {},
   "source": []
  }
 ],
 "metadata": {
  "colab": {
   "provenance": [],
   "toc_visible": true
  },
  "kernelspec": {
   "display_name": "Python 3",
   "language": "python",
   "name": "python3"
  },
  "language_info": {
   "codemirror_mode": {
    "name": "ipython",
    "version": 3
   },
   "file_extension": ".py",
   "mimetype": "text/x-python",
   "name": "python",
   "nbconvert_exporter": "python",
   "pygments_lexer": "ipython3",
   "version": "3.11.11"
  }
 },
 "nbformat": 4,
 "nbformat_minor": 0
}
