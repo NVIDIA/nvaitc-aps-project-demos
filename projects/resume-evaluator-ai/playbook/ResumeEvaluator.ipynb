{
  "nbformat": 4,
  "nbformat_minor": 0,
  "metadata": {
    "colab": {
      "provenance": []
    },
    "kernelspec": {
      "name": "python3",
      "display_name": "Python 3"
    },
    "language_info": {
      "name": "python"
    }
  },
  "cells": [
    {
      "cell_type": "markdown",
      "source": [
        "## 1. Import required libraries"
      ],
      "metadata": {
        "id": "Raowni_CcVks"
      }
    },
    {
      "cell_type": "code",
      "source": [
        "!pip install pdfplumber"
      ],
      "metadata": {
        "colab": {
          "base_uri": "https://localhost:8080/"
        },
        "id": "1YsPka5BcTgS",
        "outputId": "3624df2a-9216-46c3-f156-54601e2b877f"
      },
      "execution_count": null,
      "outputs": [
        {
          "output_type": "stream",
          "name": "stdout",
          "text": [
            "Collecting pdfplumber\n",
            "  Downloading pdfplumber-0.11.6-py3-none-any.whl.metadata (42 kB)\n",
            "\u001b[?25l     \u001b[90m━━━━━━━━━━━━━━━━━━━━━━━━━━━━━━━━━━━━━━━━\u001b[0m \u001b[32m0.0/42.8 kB\u001b[0m \u001b[31m?\u001b[0m eta \u001b[36m-:--:--\u001b[0m\r\u001b[2K     \u001b[90m━━━━━━━━━━━━━━━━━━━━━━━━━━━━━━━━━━━━━━━━\u001b[0m \u001b[32m42.8/42.8 kB\u001b[0m \u001b[31m1.6 MB/s\u001b[0m eta \u001b[36m0:00:00\u001b[0m\n",
            "\u001b[?25hCollecting pdfminer.six==20250327 (from pdfplumber)\n",
            "  Downloading pdfminer_six-20250327-py3-none-any.whl.metadata (4.1 kB)\n",
            "Requirement already satisfied: Pillow>=9.1 in /usr/local/lib/python3.11/dist-packages (from pdfplumber) (11.1.0)\n",
            "Collecting pypdfium2>=4.18.0 (from pdfplumber)\n",
            "  Downloading pypdfium2-4.30.1-py3-none-manylinux_2_17_x86_64.manylinux2014_x86_64.whl.metadata (48 kB)\n",
            "\u001b[2K     \u001b[90m━━━━━━━━━━━━━━━━━━━━━━━━━━━━━━━━━━━━━━━━\u001b[0m \u001b[32m48.2/48.2 kB\u001b[0m \u001b[31m2.6 MB/s\u001b[0m eta \u001b[36m0:00:00\u001b[0m\n",
            "\u001b[?25hRequirement already satisfied: charset-normalizer>=2.0.0 in /usr/local/lib/python3.11/dist-packages (from pdfminer.six==20250327->pdfplumber) (3.4.1)\n",
            "Requirement already satisfied: cryptography>=36.0.0 in /usr/local/lib/python3.11/dist-packages (from pdfminer.six==20250327->pdfplumber) (43.0.3)\n",
            "Requirement already satisfied: cffi>=1.12 in /usr/local/lib/python3.11/dist-packages (from cryptography>=36.0.0->pdfminer.six==20250327->pdfplumber) (1.17.1)\n",
            "Requirement already satisfied: pycparser in /usr/local/lib/python3.11/dist-packages (from cffi>=1.12->cryptography>=36.0.0->pdfminer.six==20250327->pdfplumber) (2.22)\n",
            "Downloading pdfplumber-0.11.6-py3-none-any.whl (60 kB)\n",
            "\u001b[2K   \u001b[90m━━━━━━━━━━━━━━━━━━━━━━━━━━━━━━━━━━━━━━━━\u001b[0m \u001b[32m60.2/60.2 kB\u001b[0m \u001b[31m5.3 MB/s\u001b[0m eta \u001b[36m0:00:00\u001b[0m\n",
            "\u001b[?25hDownloading pdfminer_six-20250327-py3-none-any.whl (5.6 MB)\n",
            "\u001b[2K   \u001b[90m━━━━━━━━━━━━━━━━━━━━━━━━━━━━━━━━━━━━━━━━\u001b[0m \u001b[32m5.6/5.6 MB\u001b[0m \u001b[31m37.3 MB/s\u001b[0m eta \u001b[36m0:00:00\u001b[0m\n",
            "\u001b[?25hDownloading pypdfium2-4.30.1-py3-none-manylinux_2_17_x86_64.manylinux2014_x86_64.whl (2.9 MB)\n",
            "\u001b[2K   \u001b[90m━━━━━━━━━━━━━━━━━━━━━━━━━━━━━━━━━━━━━━━━\u001b[0m \u001b[32m2.9/2.9 MB\u001b[0m \u001b[31m41.0 MB/s\u001b[0m eta \u001b[36m0:00:00\u001b[0m\n",
            "\u001b[?25hInstalling collected packages: pypdfium2, pdfminer.six, pdfplumber\n",
            "Successfully installed pdfminer.six-20250327 pdfplumber-0.11.6 pypdfium2-4.30.1\n"
          ]
        }
      ]
    },
    {
      "cell_type": "code",
      "source": [
        "import requests\n",
        "import pdfplumber\n",
        "import matplotlib.pyplot as plt\n",
        "import ipywidgets as widgets\n",
        "import getpass\n",
        "import os\n",
        "import re\n",
        "import csv\n",
        "from IPython.display import display\n",
        "from openai import OpenAI"
      ],
      "metadata": {
        "id": "7cmkSNcKlKtJ"
      },
      "execution_count": null,
      "outputs": []
    },
    {
      "cell_type": "markdown",
      "source": [
        "## 2. API setup\n",
        "\n"
      ],
      "metadata": {
        "id": "fax5fRQzcZJM"
      }
    },
    {
      "cell_type": "code",
      "source": [
        "if os.environ.get(\"NVIDIA_API_KEY\", \"\").startswith(\"nvapi-\"):\n",
        "    print(\"Valid NVIDIA_API_KEY already in environment. Delete to reset\")\n",
        "else:\n",
        "    nvapi_key = getpass.getpass(\"NVAPI Key (starts with nvapi-): \")\n",
        "    assert nvapi_key.startswith(\"nvapi-\"), f\"{nvapi_key[:5]}... is not a valid key\"\n",
        "    os.environ[\"NVIDIA_API_KEY\"] = nvapi_key\n",
        "global nvapi_key"
      ],
      "metadata": {
        "colab": {
          "base_uri": "https://localhost:8080/"
        },
        "id": "MQRpF6jvd_Ql",
        "outputId": "f3193d37-be94-42b3-aecb-383e8c5ee7fb"
      },
      "execution_count": null,
      "outputs": [
        {
          "name": "stdout",
          "output_type": "stream",
          "text": [
            "NVAPI Key (starts with nvapi-): ··········\n"
          ]
        }
      ]
    },
    {
      "cell_type": "code",
      "source": [
        "client = OpenAI(\n",
        "  base_url = \"https://integrate.api.nvidia.com/v1\",\n",
        "  api_key = nvapi_key\n",
        ")"
      ],
      "metadata": {
        "id": "KhF8oqwnjxcl"
      },
      "execution_count": null,
      "outputs": []
    },
    {
      "cell_type": "markdown",
      "source": [
        "## 3. Setup helper tools and functions"
      ],
      "metadata": {
        "id": "9SABg_xzdeRH"
      }
    },
    {
      "cell_type": "markdown",
      "source": [
        "3.1 Open PDF files from resumes folder"
      ],
      "metadata": {
        "id": "T3Ivv_nG4GLW"
      }
    },
    {
      "cell_type": "code",
      "source": [
        "pdf_files = [f for f in os.listdir(\"/content/resumes\") if f.endswith(\".pdf\")]\n",
        "print(f\"Found {len(pdf_files)} PDF Files in /content/resumes folder\")"
      ],
      "metadata": {
        "colab": {
          "base_uri": "https://localhost:8080/"
        },
        "id": "mAfmIspadZKV",
        "outputId": "1d433db7-04c2-4765-cf32-2a8eca90c5f6"
      },
      "execution_count": null,
      "outputs": [
        {
          "output_type": "stream",
          "name": "stdout",
          "text": [
            "Found 2 PDF Files in /content/resumes folder\n"
          ]
        }
      ]
    },
    {
      "cell_type": "markdown",
      "source": [
        "3.2 Define helper functions"
      ],
      "metadata": {
        "id": "JfgjYGWv4NHC"
      }
    },
    {
      "cell_type": "code",
      "source": [
        "def extract_text_from_pdf(file):\n",
        "  filepath = \"/content/resumes/\" + file\n",
        "  with pdfplumber.open(filepath) as pdf:\n",
        "      return \"\\n\".join(page.extract_text() for page in pdf.pages if page.extract_text())\n",
        "\n",
        "\n",
        "\n",
        "def get_text_inputs():\n",
        "  company_name = input(\"Enter the company name: \") # \"Visa\"\n",
        "  role_name = input(\"Enter the role name: \") # \"Software Engineer\"\n",
        "  job_description = input(\"Enter the job description: \") # \"This position is ideal for an engineer who is passionate about solving challenging business problems and building applications that provide an excellent user experience. They will be an integral part of the Payment Products Development team, focusing on the development of software solutions that leverage data to address business challenges. They will be extensively involved in hands-on activities including proof of concepts, development, and testing. They should demonstrate adaptability and readiness to change tasks according to the team's requirements.  Key Responsibilities  Developing and testing automation frameworks, and other related tasks, in addition to contributing to core product code.  Deliver high-quality products and features, taking a holistic view from the initial idea to final delivery. This involves design, development, testing, and accountability for release deployments as well as providing support post-deployment.  Understand the product in its entirety and ensure the timely delivery of your assigned module within an agile team setting.  Accurately scope efforts, identify risks, and clearly communicate trade-offs with team members and other stakeholders.  Coordinate and participate in Continuous Integration activities, Effectively communicate status updates, issues, and potential risks accurately and promptly.  Perform other tasks related to data governance and system infrastructure as required.   This is a hybrid position. Expectation of days in office will be confirmed by your hiring manager.  Qualifications  Basic Qualifications   Bachelors degree, OR 3+ years of relevant work experience  Preferred Qualifications   Bachelors degree, OR 3+ years of relevant work experience  Bachelor's degree in Computer Science or equivalent field  Relevant working experience of up to 2 years in the industry  Proven experience in software development in Test, particularly in data-centric projects, demonstrating adherence to standard development best practices  Strong understanding and practical experience with data structures and algorithms, with a passion for tackling complex problems  Proficiency in Java programming  Hands-on experience with Big Data technologies such as Hadoop, Spark, and Hive  Strong knowledge of Unix/Linux operating systems and Shell Scripting  Proficiency in working with RDBMS, SQL and In-memory DB such as Redis  Familiarity with version control systems, specifically Git  Experience working within an Agile framework  Experience with Kafka, Mock data service a good to have  Experience with Load Runner is highly advantageous e  Familiarity with AI concepts and tools, including GitHub Copilot for code development  Exposure to AI/ML development is an added advantage  Proficiency in working with In-memory Databases like Redis  Strong verbal and written communication skills, with a proactive and self-motivated approach to improving existing processes to enable faster iterations.   Demonstrated intellectual and analytical rigor, with a keen attention to detail  Team-oriented, energetic, and collaborative approach to work, coupled with a diplomatic and adaptable style\"\n",
        "  return company_name, role_name, job_description\n",
        "\n",
        "\n",
        "\n",
        "def extract_name_and_summary(text):\n",
        "    name_pattern = r\"Candidate Name:\\s*([^;]+);\"  # Matches everything after \"Candidate Name:\" until \";\"\n",
        "    resume_summary_pattern = r\"Resume Summary:\\s*(.*)$\"  # Matches everything after \"Resume Summary:\" until end\n",
        "\n",
        "    name_match = re.search(name_pattern, text)\n",
        "    resume_summary_match = re.search(resume_summary_pattern, text)\n",
        "\n",
        "    name = name_match.group(1).strip() if name_match else None\n",
        "    resume_summary = resume_summary_match.group(1).strip() if resume_summary_match else None\n",
        "\n",
        "    return {\n",
        "        \"name\": name,\n",
        "        \"resume_summary\": resume_summary\n",
        "    }\n",
        "\n",
        "\n",
        "\n",
        "def extract_score_and_justification(text):\n",
        "    score_pattern = r\"Score:\\s*(\\d+);\"  # Matches a number after \"Score:\" until \";\"\n",
        "    justification_pattern = r\"Justification:\\s*(.*)\"  # Matches everything after \"Justification:\" until end\n",
        "\n",
        "    score_match = re.search(score_pattern, text)\n",
        "    justification_match = re.search(justification_pattern, text)\n",
        "\n",
        "    score = int(score_match.group(1).strip()) if score_match else None\n",
        "    justification = justification_match.group(1).strip() if justification_match else None\n",
        "\n",
        "    return {\n",
        "        \"score\": score,\n",
        "        \"justification\": justification\n",
        "    }\n",
        "\n",
        "\n",
        "\n",
        "# Example usage (Uncomment for testing)\n",
        "# sample_response_name = \"Candidate Name: Jason Vega; Resume Summary: The candidate is a software engineer with 5 years of experience and a Bachelor's degree in Computer Science from Stanford University. The candidate is familiar with programming languages such as Java, C++, and Python. The resume provides a clear overview of the candidate's experience and qualifications.\"\n",
        "\n",
        "# sample_response_score = \"Score: 8; Justification: The resume is well-written and provides a clear overview of the candidate's experience and qualifications. The candidate has 5 years of experience as a software engineer and is familiar with programming languages such as Java, C++, and Python. The resume also mentions the candidate's Bachelor's degree in Computer Science from Stanford University. Overall, the resume is strong and demonstrates the candidate's qualifications for the role of Software Engineer at Google.\"\n",
        "\n",
        "# print(extract_name_and_summary(sample_response_name))\n",
        "# print(extract_score_and_justification(sample_response_score))\n"
      ],
      "metadata": {
        "id": "CX_gN39Ydkx9",
        "colab": {
          "base_uri": "https://localhost:8080/"
        },
        "outputId": "7b90010d-c821-418a-907a-65ba1b043a84"
      },
      "execution_count": null,
      "outputs": [
        {
          "output_type": "stream",
          "name": "stdout",
          "text": [
            "{'name': 'Jason Vega', 'resume_summary': \"The candidate is a software engineer with 5 years of experience and a Bachelor's degree in Computer Science from Stanford University. The candidate is familiar with programming languages such as Java, C++, and Python. The resume provides a clear overview of the candidate's experience and qualifications.\"}\n",
            "{'score': 8, 'justification': \"The resume is well-written and provides a clear overview of the candidate's experience and qualifications. The candidate has 5 years of experience as a software engineer and is familiar with programming languages such as Java, C++, and Python. The resume also mentions the candidate's Bachelor's degree in Computer Science from Stanford University. Overall, the resume is strong and demonstrates the candidate's qualifications for the role of Software Engineer at Google.\"}\n"
          ]
        }
      ]
    },
    {
      "cell_type": "markdown",
      "source": [
        "3.3 Define LLM API call"
      ],
      "metadata": {
        "id": "N8ha-Yay4Vgt"
      }
    },
    {
      "cell_type": "code",
      "source": [
        "# Samples used for prompt engineering\n",
        "\n",
        "sample_prompt_name_summary = \"Given the following resume, identify the name of the candidate and provide a summary of the resume.\\n\\nResume:\\nI am Jason, a software engineer with 5 years of experience. I have worked on various projects to develop high-quality software. I am familiar with programming languages such as Java, C++, and Python. I have a Bachelor's degree in Computer Science from Stanford University. Use ';' to separate sections in your response.\"\n",
        "sample_response_name_summary = \"Candidate Name: Jason Vega; Resume Summary: The candidate is a software engineer with 5 years of experience and a Bachelor's degree in Computer Science from Stanford University. The candidate is familiar with programming languages such as Java, C++, and Python. The resume provides a clear overview of the candidate's experience and qualifications.\"\n",
        "\n",
        "sample_prompt_score_justification = \"Given the job description and resume below, please score the resume for the role of Software Engineer at Google.\\n\\nHere is a job description of the role that you can use to score the candidate. \\nJob Description:\\nWe are looking for a Software Engineer to join our team. You will work with our engineers to develop high-quality software. You will also work on various projects to improve our software. You should have experience in software development and be familiar with programming languages such as Java, C++, and Python.\\n\\nResume:\\nI am Jason, a software engineer with 5 years of experience. I have worked on various projects to develop high-quality software. I am familiar with programming languages such as Java, C++, and Python. I have a Bachelor's degree in Computer Science from Stanford University. Use ';' to separate sections in your response.\"\n",
        "sample_response_score_justification = \"Score: 8; Justification: The resume is well-written and provides a clear overview of the candidate's experience and qualifications. The candidate has 5 years of experience as a software engineer and is familiar with programming languages such as Java, C++, and Python. The resume also mentions the candidate's Bachelor's degree in Computer Science from Stanford University. Overall, the resume is strong and demonstrates the candidate's qualifications for the role of Software Engineer at Google.\"\n",
        "\n",
        "sample_prompt_two_name_summary = \"Given the following resume, identify the name of the candidate and provide a summary of the resume.\\n\\nResume:\\nI am George, a data analyst with 3 years of experience. I have worked on various projects to analyze data and provide insights. I am familiar with data analysis tools such as SQL and Python. I have a Bachelor's degree in Statistics from Harvard University. Use ';' to separate sections in your response.\"\n",
        "sample_response_two_name_summary = \"Candidate Name: George; Resume Summary: The candidate is a data analyst with 3 years of experience and a Bachelor's degree in Statistics from Harvard University. The candidate is familiar with data analysis tools such as SQL and Python. The resume provides a clear overview of the candidate's experience and qualifications.\"\n",
        "\n",
        "sample_prompt_two_score_justification = \"Given the job description and resume below, please score the resume for the role of Data Analyst at Facebook.\\n\\nHere is a job description of the role that you can use to score the candidate. \\nJob Description:\\nWe are looking for a Data Analyst to join our team. You will work with our data scientists to analyze data and provide insights. You will also work on various projects to improve our data analysis. You should have experience in data analysis and be familiar with data analysis tools such as SQL and Python.\\n\\nResume:\\nI am George, a data analyst with 3 years of experience. I have worked on various projects to analyze data and provide insights. I am familiar with data analysis tools such as SQL and Python. I have a Bachelor's degree in Statistics from Harvard University. Use ';' to separate sections in your response.\"\n",
        "\n",
        "sample_response_two_score_justification = \"Score: 7; Justification: The resume is well-written and provides a clear overview of the candidate's experience and qualifications. The candidate has 3 years of experience as a data analyst and is familiar with data analysis tools such as SQL and Python. The resume also mentions the candidate's Bachelor's degree in Statistics from Harvard University. Overall, the resume is strong and demonstrates the candidate's qualifications for the role of Data Analyst at Facebook.\"\n",
        "\n",
        "# Instructions used to define LLM's role\n",
        "llm_instructions = \"You are a hiring manager assessing candidates for their suitabilities for a specific role, based on the job description and the candidate resumes. You are to assign each of them a score within the range 1 to 10. Identify the name of the candidate from the resume. You are to provide a short justification for the score and a short summary of the resume.\""
      ],
      "metadata": {
        "id": "nVlW6HF6msWf"
      },
      "execution_count": null,
      "outputs": []
    },
    {
      "cell_type": "code",
      "source": [
        "def get_name_summary(resume_text):\n",
        "  prompt = \"Given the following resume, identify the name of the candidate and provide a summary of the resume.\" + \"\\n\\nResume:\\n\" + resume_text + \"Use ';' to separate sections in your response, like in the earlier examples.\"\n",
        "\n",
        "  completion = client.chat.completions.create(\n",
        "    model=\"meta/llama-3.3-70b-instruct\",\n",
        "    messages=[\n",
        "                { \"role\": \"system\", \"content\": llm_instructions },\n",
        "                { \"role\": \"user\", \"content\": sample_prompt_name_summary },\n",
        "                { \"role\": \"assistant\", \"content\": sample_response_name_summary },\n",
        "                { \"role\": \"user\", \"content\": sample_prompt_two_name_summary },\n",
        "                { \"role\": \"assistant\", \"content\": sample_response_two_name_summary },\n",
        "                { \"role\": \"user\", \"content\": prompt }\n",
        "              ],\n",
        "    temperature=0.2,\n",
        "    top_p=0.7,\n",
        "    max_tokens=1024,\n",
        "    stream=True\n",
        "  )\n",
        "\n",
        "  result = \"\"\n",
        "  for chunk in completion:\n",
        "    if chunk.choices[0].delta.content is not None:\n",
        "      result += chunk.choices[0].delta.content\n",
        "\n",
        "  return result\n",
        "\n",
        "def get_score_justification(company_name, role_name, job_description, resume_text):\n",
        "  prompt = \"Given the job description and resume below, please score, on a scale of 1 - 10 where 10 is the best, and 1 is slightly suitable, the resume for the role of \" + role_name + \" at \" + company_name + \".\\n\\nHere is a job description of the role that you can use to score the candidate and don't give high scores too easily. \\nJob Description:\\n\" + job_description + \"\\n\\nResume:\\n\" + resume_text + \"Use ';' to separate sections in your response, like in the earlier examples.\"\n",
        "\n",
        "  completion = client.chat.completions.create(\n",
        "    model=\"meta/llama-3.3-70b-instruct\",\n",
        "    messages=[\n",
        "                { \"role\": \"system\", \"content\": llm_instructions },\n",
        "                { \"role\": \"user\", \"content\": sample_prompt_score_justification },\n",
        "                { \"role\": \"assistant\", \"content\": sample_response_score_justification },\n",
        "                { \"role\": \"user\", \"content\": sample_prompt_two_score_justification },\n",
        "                { \"role\": \"assistant\", \"content\": sample_response_two_score_justification },\n",
        "                { \"role\": \"user\", \"content\": prompt }\n",
        "              ],\n",
        "    temperature=0.2,\n",
        "    top_p=0.7,\n",
        "    max_tokens=1024,\n",
        "    stream=True\n",
        "  )\n",
        "\n",
        "  result = \"\"\n",
        "  for chunk in completion:\n",
        "    if chunk.choices[0].delta.content is not None:\n",
        "      result += chunk.choices[0].delta.content\n",
        "\n",
        "  return result"
      ],
      "metadata": {
        "id": "AfxKjq-M4VTY"
      },
      "execution_count": null,
      "outputs": []
    },
    {
      "cell_type": "markdown",
      "source": [
        "## 4. Define main function"
      ],
      "metadata": {
        "id": "QMX_XZ8UdnJa"
      }
    },
    {
      "cell_type": "code",
      "source": [
        "def analyze_resume():\n",
        "  print(\"Remember to upload your resumes to the resumes folder before continuing!\")\n",
        "  company_name, role_name, job_description = get_text_inputs()\n",
        "\n",
        "\n",
        "  # Create CSV file if it doesn't exist\n",
        "  csv_file_path = '/content/resumes_analysis.csv'\n",
        "  if not os.path.exists(csv_file_path):\n",
        "    with open(csv_file_path, 'w', newline='') as csvfile:\n",
        "      writer = csv.writer(csvfile)\n",
        "      writer.writerow(['File Name', 'Name', 'Score', 'Justification', 'Resume Summary'])\n",
        "\n",
        "\n",
        "  print(\"\\nAnalyzing resumes...\\n\")\n",
        "\n",
        "\n",
        "  with open(csv_file_path, 'a', newline='') as csvfile:\n",
        "    writer = csv.writer(csvfile)\n",
        "\n",
        "    for file in pdf_files:\n",
        "      resume_text = extract_text_from_pdf(file)\n",
        "\n",
        "      # Make API calls\n",
        "      llm_output_name = get_name_summary(resume_text)\n",
        "      llm_output_score = get_score_justification(company_name, role_name, job_description, resume_text)\n",
        "\n",
        "\n",
        "      # Extract values from API response\n",
        "      name_summary = extract_name_and_summary(llm_output_name)\n",
        "      score_justification = extract_score_and_justification(llm_output_score)\n",
        "\n",
        "      name = name_summary['name']\n",
        "      resume_summary = name_summary['resume_summary']\n",
        "      score = score_justification['score']\n",
        "      justification = score_justification['justification']\n",
        "\n",
        "\n",
        "      # Write data to CSV\n",
        "      writer.writerow([file, name, score, justification, resume_summary])\n",
        "\n",
        "  print(\"\\nAnalysis complete. Results saved to resume_analysis.csv\")"
      ],
      "metadata": {
        "id": "vlfTS5OhdRHq"
      },
      "execution_count": null,
      "outputs": []
    },
    {
      "cell_type": "markdown",
      "source": [
        "## 5. Run it!"
      ],
      "metadata": {
        "id": "IxRe5Rg3duWr"
      }
    },
    {
      "cell_type": "code",
      "source": [
        "analyze_resume()"
      ],
      "metadata": {
        "colab": {
          "base_uri": "https://localhost:8080/"
        },
        "id": "RPz0k8vn8VcK",
        "outputId": "fbd0b99f-836e-4ecb-910f-22b6faef6de9"
      },
      "execution_count": null,
      "outputs": [
        {
          "output_type": "stream",
          "name": "stderr",
          "text": [
            "WARNING:pdfminer.pdfpage:CropBox missing from /Page, defaulting to MediaBox\n",
            "WARNING:pdfminer.pdfpage:CropBox missing from /Page, defaulting to MediaBox\n"
          ]
        },
        {
          "output_type": "stream",
          "name": "stdout",
          "text": [
            "Remember to upload your resumes to the resumes folder before continuing!\n",
            "\n",
            "Analyzing resumes...\n",
            "\n"
          ]
        },
        {
          "output_type": "stream",
          "name": "stderr",
          "text": [
            "WARNING:pdfminer.pdfpage:CropBox missing from /Page, defaulting to MediaBox\n",
            "WARNING:pdfminer.pdfpage:CropBox missing from /Page, defaulting to MediaBox\n"
          ]
        },
        {
          "output_type": "stream",
          "name": "stdout",
          "text": [
            "\n",
            "llm_output_nameCandidate Name: Lysandra Vega; Resume Summary: The candidate is a recent computer engineering graduate from Purdue University with a strong background in software engineering, seeking a role at Salesforce; she has experience as a software engineer intern at Infosys, where she utilized various skills such as Git, Python, and MySQL to improve code quality, app functionality, and database performance; she also led a group project, developing backup and recovery strategies, implementing efficient database schemas, and streamlining development time; the candidate possesses certifications such as Certified Software Development Professional (CSDP) and is proficient in a range of tools and technologies, including Visual Studio Code, Django, and Heroku.\n",
            "\n",
            "llm_output_scoreScore: 6; Justification: The resume demonstrates some relevant skills and experience for the role of Software Engineer at Visa, such as proficiency in Python, Git, and MySQL, as well as experience with continuous integration and deployment; however, the candidate lacks direct experience in areas such as Big Data technologies, Java programming, and Unix/Linux operating systems, which are preferred qualifications for the role; additionally, the candidate's career objective mentions a desire to work at Salesforce, which may indicate a lack of interest in the Visa role; the candidate's experience is also mostly limited to an internship and academic projects, which may not be directly applicable to the demands of a full-time software engineering role at Visa; \n",
            "Summary of the resume: Lysandra Vega is a recent computer engineering graduate with a strong foundation in programming skills, including Python, Git, and MySQL, and some experience with software development, continuous integration, and deployment, as well as team collaboration and leadership; she has a Certified Software Development Professional (CSDP) certification and has worked on various projects, including an academic simulation project, where she demonstrated her skills in database management, backup and recovery strategies, and team collaboration.\n",
            "\n",
            "name: Lysandra Vega\n",
            "resume_summary: The candidate is a recent computer engineering graduate from Purdue University with a strong background in software engineering, seeking a role at Salesforce; she has experience as a software engineer intern at Infosys, where she utilized various skills such as Git, Python, and MySQL to improve code quality, app functionality, and database performance; she also led a group project, developing backup and recovery strategies, implementing efficient database schemas, and streamlining development time; the candidate possesses certifications such as Certified Software Development Professional (CSDP) and is proficient in a range of tools and technologies, including Visual Studio Code, Django, and Heroku.\n",
            "score: 6\n",
            "justification: The resume demonstrates some relevant skills and experience for the role of Software Engineer at Visa, such as proficiency in Python, Git, and MySQL, as well as experience with continuous integration and deployment; however, the candidate lacks direct experience in areas such as Big Data technologies, Java programming, and Unix/Linux operating systems, which are preferred qualifications for the role; additionally, the candidate's career objective mentions a desire to work at Salesforce, which may indicate a lack of interest in the Visa role; the candidate's experience is also mostly limited to an internship and academic projects, which may not be directly applicable to the demands of a full-time software engineering role at Visa;\n",
            "\n"
          ]
        },
        {
          "output_type": "stream",
          "name": "stderr",
          "text": [
            "WARNING:pdfminer.pdfpage:CropBox missing from /Page, defaulting to MediaBox\n",
            "WARNING:pdfminer.pdfpage:CropBox missing from /Page, defaulting to MediaBox\n"
          ]
        },
        {
          "output_type": "stream",
          "name": "stdout",
          "text": [
            "\n",
            "llm_output_nameCandidate Name: John Doe; Resume Summary: The candidate is a junior software engineer with 2 years of experience in full-stack development, proficient in programming languages such as Python, JavaScript, and React, with a strong foundation in software development principles and problem-solving, and a Bachelor of Science in Computer Science from the National University of Singapore, with experience in developing and maintaining web applications, collaborating with teams, and contributing to code quality and maintainability.\n",
            "\n",
            "llm_output_scoreScore: 4; Justification: The candidate's resume shows some relevant experience and skills, but it lacks the specific qualifications and experience required for the role of Software Engineer at Visa. The candidate has experience in full-stack development, but the job description requires experience in software development, particularly in data-centric projects, and proficiency in Java programming, which is not mentioned in the resume. Additionally, the candidate's experience with Big Data technologies, Unix/Linux operating systems, and Shell Scripting is limited or not mentioned. The candidate's skills in Python, JavaScript, and React are not directly relevant to the job requirements. However, the candidate's strong foundation in software development principles, problem-solving, and experience with version control systems like Git are positives; Summary: The candidate, John Doe, is a junior software engineer with 2 years of experience in full-stack development, proficient in Python, JavaScript, and React, with a strong foundation in software development principles and problem-solving. The candidate has experience working on web applications, collaborating with teams, and contributing to code quality and maintainability. The candidate also has experience with agile development methodologies, version control, and has worked on projects such as an e-commerce website and a machine learning model.\n",
            "\n",
            "name: John Doe\n",
            "resume_summary: The candidate is a junior software engineer with 2 years of experience in full-stack development, proficient in programming languages such as Python, JavaScript, and React, with a strong foundation in software development principles and problem-solving, and a Bachelor of Science in Computer Science from the National University of Singapore, with experience in developing and maintaining web applications, collaborating with teams, and contributing to code quality and maintainability.\n",
            "score: 4\n",
            "justification: The candidate's resume shows some relevant experience and skills, but it lacks the specific qualifications and experience required for the role of Software Engineer at Visa. The candidate has experience in full-stack development, but the job description requires experience in software development, particularly in data-centric projects, and proficiency in Java programming, which is not mentioned in the resume. Additionally, the candidate's experience with Big Data technologies, Unix/Linux operating systems, and Shell Scripting is limited or not mentioned. The candidate's skills in Python, JavaScript, and React are not directly relevant to the job requirements. However, the candidate's strong foundation in software development principles, problem-solving, and experience with version control systems like Git are positives; Summary: The candidate, John Doe, is a junior software engineer with 2 years of experience in full-stack development, proficient in Python, JavaScript, and React, with a strong foundation in software development principles and problem-solving. The candidate has experience working on web applications, collaborating with teams, and contributing to code quality and maintainability. The candidate also has experience with agile development methodologies, version control, and has worked on projects such as an e-commerce website and a machine learning model.\n",
            "\n",
            "\n",
            "Analysis complete. Results saved to resume_analysis.csv\n"
          ]
        }
      ]
    },
    {
      "cell_type": "code",
      "source": [
        "import pandas as pd\n",
        "import matplotlib.pyplot as plt\n",
        "\n",
        "# Load CSV into a DataFrame\n",
        "file_name = 'resumes_analysis.csv'  # Get the uploaded file name\n",
        "df = pd.read_csv(file_name)\n",
        "\n",
        "# Ensure the \"Score\" and \"Name\" column exists\n",
        "if \"Score\" in df.columns and \"Name\" in df.columns:\n",
        "    # Plot a line chart\n",
        "    plt.figure(figsize=(12, 6))\n",
        "    plt.plot(df[\"Name\"], df[\"Score\"], marker='o', linestyle='-')\n",
        "\n",
        "    # Set axis labels and title\n",
        "    plt.xlabel(\"Candidate Name\")\n",
        "    plt.ylabel(\"Score\")\n",
        "    plt.title(\"Candidate Scores\")\n",
        "\n",
        "    # Set y-axis limits\n",
        "    plt.ylim(0, 10)\n",
        "\n",
        "    # Rotate x-axis labels if there are many names\n",
        "    plt.xticks(rotation=45, ha=\"right\")\n",
        "\n",
        "    # Show grid for better readability\n",
        "    # plt.grid(True)\n",
        "\n",
        "    # Show the plot\n",
        "    plt.show()\n",
        "else:\n",
        "    print(\"Error: 'score' and/or 'name' column not found in the CSV file.\")\n"
      ],
      "metadata": {
        "colab": {
          "base_uri": "https://localhost:8080/",
          "height": 632
        },
        "id": "RHi6OI23zPrt",
        "outputId": "711df0cc-a252-4a0b-ca69-a96b0f8a5f1b"
      },
      "execution_count": null,
      "outputs": [
        {
          "output_type": "display_data",
          "data": {
            "text/plain": [
              "<Figure size 1200x600 with 1 Axes>"
            ],
            "image/png": "[encoded data removed]"
          },
          "metadata": {}
        }
      ]
    }
  ]
}